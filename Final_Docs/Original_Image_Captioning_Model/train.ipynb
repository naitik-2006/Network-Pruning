{
 "cells": [
  {
   "cell_type": "code",
   "execution_count": null,
   "metadata": {},
   "outputs": [],
   "source": [
    "import torch\n",
    "import torch.optim as optim\n",
    "from get_loader import get_loader\n",
    "from torchvision import transforms\n",
    "from Model import EncodertoDecoder\n",
    "import torch.nn as nn\n",
    "from tqdm import tqdm\n",
    "from torch.utils.tensorboard import SummaryWriter\n",
    "from utils import  print_examples\n",
    "from Model import EncoderCNN\n",
    "\n",
    "def train():\n",
    "\n",
    "    transform = transforms.Compose([transforms.Resize((350,350)),\n",
    "                                transforms.RandomCrop((256,256)),\n",
    "                                transforms.ToTensor(),\n",
    "                                transforms.Normalize((0.5, 0.5, 0.5), (0.5, 0.5, 0.5))])\n",
    "\n",
    "    images_path , caption_path = r\"D:\\ML\\Korea\\Jishu\\Jishu\\rsicd\\images\" , r\"D:\\ML\\Korea\\Jishu\\Jishu\\rsicd\\captions.csv\"\n",
    "    \n",
    "    BATCH_SIZE = 32\n",
    "    data_loader , dataset = get_loader(images_path,caption_path ,transform,batch_size = BATCH_SIZE,num_workers=4)\n",
    "    device = torch.device(\"cuda\" if torch.cuda.is_available() else \"cpu\")\n",
    "    num_epochs = 15\n",
    "    learning_rate = 3e-4\n",
    "    trg_vocab_size = len(dataset.vocab)\n",
    "\n",
    "    embedding_size = 512\n",
    "    num_heads = 8\n",
    "    num_decoder_layers = 4\n",
    "    dropout = 0.10\n",
    "    pad_idx=dataset.vocab.stoi[\"<PAD>\"]\n",
    "    save_model = True\n",
    "    writer =SummaryWriter(\"runs/loss_plot\")\n",
    "    step = 0\n",
    "\n",
    "    model = EncodertoDecoder(embeding_size=embedding_size,\n",
    "                            trg_vocab_size=trg_vocab_size,\n",
    "                            num_heads=num_heads,\n",
    "                            num_decoder_layers=num_decoder_layers,\n",
    "                            dropout=dropout, train_cnn=True).to(device)\n",
    "    optimizer = optim.Adam(model.parameters(),lr = learning_rate)\n",
    "\n",
    "    criterion = nn.CrossEntropyLoss(ignore_index=pad_idx)\n",
    "\n",
    "\n",
    "    for epoch in range(num_epochs):\n",
    "        \n",
    "        print(f\"[Epoch {epoch} / {num_epochs}]\")\n",
    "        \n",
    "        model.train()\n",
    "        total_loss = 0.0\n",
    "        for idx, (images, captions) in tqdm(enumerate(data_loader), total=len(data_loader), leave=False):\n",
    "            images = images.to(device)\n",
    "            captions = captions.to(device)\n",
    "            \n",
    "            output = model(images, captions[:-1])\n",
    "            output = output.reshape(-1, output.shape[2])\n",
    "            target = captions[1:].reshape(-1)\n",
    "            \n",
    "            optimizer.zero_grad()\n",
    "            loss = criterion(output,target)\n",
    "            lossofepoch = loss.item()\n",
    "            total_loss += lossofepoch\n",
    "            \n",
    "            loss.backward()\n",
    "            torch.nn.utils.clip_grad_norm_(model.parameters(),max_norm=1)\n",
    "            \n",
    "            optimizer.step()\n",
    "            writer.add_scalar(\"Training Loss\",loss,global_step=step)\n",
    "            step+=1\n",
    "            \n",
    "        print(\"Loss of the epoch is\", total_loss / len(data_loader))\n",
    "        torch.save(model , 'model.pth')\n",
    "            \n",
    "        model.eval()\n",
    "        print_examples(model, device, dataset)        "
   ]
  },
  {
   "cell_type": "code",
   "execution_count": null,
   "metadata": {},
   "outputs": [
    {
     "name": "stderr",
     "output_type": "stream",
     "text": [
      "c:\\Users\\codes\\anaconda3\\envs\\ml\\Lib\\site-packages\\torchvision\\models\\_utils.py:208: UserWarning: The parameter 'pretrained' is deprecated since 0.13 and may be removed in the future, please use 'weights' instead.\n",
      "  warnings.warn(\n",
      "c:\\Users\\codes\\anaconda3\\envs\\ml\\Lib\\site-packages\\torchvision\\models\\_utils.py:223: UserWarning: Arguments other than a weight enum or `None` for 'weights' are deprecated since 0.13 and may be removed in the future. The current behavior is equivalent to passing `weights=ResNet101_Weights.IMAGENET1K_V1`. You can also use `weights=ResNet101_Weights.DEFAULT` to get the most up-to-date weights.\n",
      "  warnings.warn(msg)\n",
      "d:\\ML\\Korea\\Jishu\\Jishu\\Final_Docs\\Original_Image_Captioning_Model\\Model.py:150: FutureWarning: You are using `torch.load` with `weights_only=False` (the current default value), which uses the default pickle module implicitly. It is possible to construct malicious pickle data which will execute arbitrary code during unpickling (See https://github.com/pytorch/pytorch/blob/main/SECURITY.md#untrusted-models for more details). In a future release, the default value for `weights_only` will be flipped to `True`. This limits the functions that could be executed during unpickling. Arbitrary objects will no longer be allowed to be loaded via this mode unless they are explicitly allowlisted by the user via `torch.serialization.add_safe_globals`. We recommend you start setting `weights_only=True` for any use case where you don't have full control of the loaded file. Please open an issue on GitHub for any issues related to this experimental feature.\n",
      "  self.image_encoder.load_state_dict(torch.load(\"D:\\ML\\Korea\\Jishu\\Jishu\\Final_Docs\\Original_Image_Captioning_Model\\original_resenet_model.pth\"))\n",
      "c:\\Users\\codes\\anaconda3\\envs\\ml\\Lib\\site-packages\\torch\\nn\\modules\\transformer.py:307: UserWarning: enable_nested_tensor is True, but self.use_nested_tensor is False because encoder_layer.self_attn.batch_first was not True(use batch_first for better inference performance)\n",
      "  warnings.warn(f\"enable_nested_tensor is True, but self.use_nested_tensor is False because {why_not_sparsity_fast_path}\")\n"
     ]
    },
    {
     "name": "stdout",
     "output_type": "stream",
     "text": [
      "[Epoch 0 / 15]\n",
      "Example 1 CORRECT:  <SOS> a small area of lake is located near an overpass . <EOS> \n",
      "\n",
      "\n"
     ]
    },
    {
     "name": "stderr",
     "output_type": "stream",
     "text": [
      "c:\\Users\\codes\\anaconda3\\envs\\ml\\Lib\\site-packages\\torch\\nn\\functional.py:5560: UserWarning: 1Torch was not compiled with flash attention. (Triggered internally at C:\\cb\\pytorch_1000000000000\\work\\aten\\src\\ATen\\native\\transformers\\cuda\\sdp_utils.cpp:555.)\n",
      "  attn_output = scaled_dot_product_attention(q, k, v, attn_mask, dropout_p, is_causal)\n"
     ]
    },
    {
     "name": "stdout",
     "output_type": "stream",
     "text": [
      "Example 1 OUTPUT: catene catene catene catene catene catene where catene where catene catene catene catene catene catene where catene catene catene catene catene catene catene catene catene catene catene catene catene catene catene catene catene catene catene catene catene catene catene where catene catene catene catene catene catene catene catene catene catene\n",
      "Example 1 CORRECT:  <SOS> green vegetation is planted on the hill . <EOS> \n",
      "\n",
      "\n",
      "Example 1 OUTPUT: u u u u u u u u u wetland u wetland u wetland u wetland u wetland u wetland u wetland u u wetland u wetland u wetland u wetland u wetland u wetland u wetland u u u u u wetland u u u u wetland u wetland\n"
     ]
    },
    {
     "name": "stderr",
     "output_type": "stream",
     "text": [
      "                                                      \r"
     ]
    },
    {
     "name": "stdout",
     "output_type": "stream",
     "text": [
      "Loss of the epoch is 2.160471480310616\n",
      "Example 1 CORRECT:  <SOS> a baseball field with one basketball field and two tennis courts next to it is beside some buildings . <EOS> \n",
      "\n",
      "\n",
      "Example 1 OUTPUT: many green trees and some buildings are in a medium residential area . <EOS>\n",
      "Example 1 CORRECT:  <SOS> three white storage tanks are near a piece of green meadows . <EOS> \n",
      "\n",
      "\n",
      "Example 1 OUTPUT: many green trees and some buildings are in a medium residential area . <EOS>\n",
      "[Epoch 1 / 15]\n",
      "Example 1 CORRECT:  <SOS> a football field and a broad road surrounded . <EOS> \n",
      "\n",
      "\n",
      "Example 1 OUTPUT: many green trees and some buildings are in a medium residential area . <EOS>\n",
      "Example 1 CORRECT:  <SOS> it 's a big piece of mounds with white snow . <EOS> \n",
      "\n",
      "\n",
      "Example 1 OUTPUT: many buildings and some green trees are in a school with a playground and a playground . <EOS>\n"
     ]
    },
    {
     "name": "stderr",
     "output_type": "stream",
     "text": [
      "                                                      \r"
     ]
    },
    {
     "name": "stdout",
     "output_type": "stream",
     "text": [
      "Loss of the epoch is 1.7853703566000496\n",
      "Example 1 CORRECT:  <SOS> two white storage tanks are semi - surrounded by green plants . <EOS> \n",
      "\n",
      "\n",
      "Example 1 OUTPUT: many buildings and some green trees are in a school . <EOS>\n",
      "Example 1 CORRECT:  <SOS> some buildings are near a viaduct with many green trees . <EOS> \n",
      "\n",
      "\n",
      "Example 1 OUTPUT: many green trees are around a pond . <EOS>\n",
      "[Epoch 2 / 15]\n",
      "Example 1 CORRECT:  <SOS> is a square , road , trees and pastures . <EOS> \n",
      "\n",
      "\n",
      "Example 1 OUTPUT: many buildings and some green trees are in a school . <EOS>\n",
      "Example 1 CORRECT:  <SOS> several buildings and green trees are around a stadium . <EOS> \n",
      "\n",
      "\n",
      "Example 1 OUTPUT: many buildings and some green trees are in a school . <EOS>\n"
     ]
    },
    {
     "name": "stderr",
     "output_type": "stream",
     "text": [
      "                                                      \r"
     ]
    },
    {
     "name": "stdout",
     "output_type": "stream",
     "text": [
      "Loss of the epoch is 1.6549256872123397\n",
      "Example 1 CORRECT:  <SOS> a stadium with some cars parked outside is near a river . <EOS> \n",
      "\n",
      "\n",
      "Example 1 OUTPUT: many buildings and some green trees are in a school . <EOS>\n",
      "Example 1 CORRECT:  <SOS> some planes are close to a large building at an airport . <EOS> \n",
      "\n",
      "\n",
      "Example 1 OUTPUT: many buildings and some green trees are in a school . <EOS>\n",
      "[Epoch 3 / 15]\n",
      "Example 1 CORRECT:  <SOS> what stand beside this straight road is several airplanes with red <UNK> <UNK> . <EOS> \n",
      "\n",
      "\n",
      "Example 1 OUTPUT: many buildings and some green trees are in a school . <EOS>\n",
      "Example 1 CORRECT:  <SOS> there are dark green farmland with some ponds . <EOS> \n",
      "\n",
      "\n",
      "Example 1 OUTPUT: many buildings and some green trees are in a school . <EOS>\n"
     ]
    },
    {
     "name": "stderr",
     "output_type": "stream",
     "text": [
      " 60%|██████    | 767/1278 [2:16:11<1:04:31,  7.58s/it]"
     ]
    }
   ],
   "source": [
    "train()"
   ]
  },
  {
   "cell_type": "code",
   "execution_count": 4,
   "metadata": {},
   "outputs": [
    {
     "name": "stderr",
     "output_type": "stream",
     "text": [
      "c:\\Users\\codes\\anaconda3\\envs\\ml\\Lib\\site-packages\\torchvision\\models\\_utils.py:208: UserWarning: The parameter 'pretrained' is deprecated since 0.13 and may be removed in the future, please use 'weights' instead.\n",
      "  warnings.warn(\n",
      "c:\\Users\\codes\\anaconda3\\envs\\ml\\Lib\\site-packages\\torchvision\\models\\_utils.py:223: UserWarning: Arguments other than a weight enum or `None` for 'weights' are deprecated since 0.13 and may be removed in the future. The current behavior is equivalent to passing `weights=ResNet101_Weights.IMAGENET1K_V1`. You can also use `weights=ResNet101_Weights.DEFAULT` to get the most up-to-date weights.\n",
      "  warnings.warn(msg)\n",
      "c:\\Users\\codes\\anaconda3\\envs\\ml\\Lib\\site-packages\\torch\\nn\\modules\\transformer.py:307: UserWarning: enable_nested_tensor is True, but self.use_nested_tensor is False because encoder_layer.self_attn.batch_first was not True(use batch_first for better inference performance)\n",
      "  warnings.warn(f\"enable_nested_tensor is True, but self.use_nested_tensor is False because {why_not_sparsity_fast_path}\")\n"
     ]
    },
    {
     "name": "stdout",
     "output_type": "stream",
     "text": [
      "[Epoch 0 / 15]\n",
      "Example 1 CORRECT:  <SOS> on the beach there is a high rise resort building with a garden and swimming pools . <EOS> \n",
      "\n",
      "\n",
      "Example 1 OUTPUT: them them while shallow stipes cruciform cruciform cruciform cruciform cruciform cruciform houses houses houses houses houses houses houses houses houses houses houses houses houses houses houses houses houses houses quadrangular quadrangular quadrangular quadrangular quadrangular quadrangular quadrangular quadrangular quadrangular quadrangular quadrangular quadrangular quadrangular passes shallow shallow shallow shallow shallow shallow shallow\n",
      "Example 1 CORRECT:  <SOS> it 's a big piece of agricultural land . <EOS> \n",
      "\n",
      "\n",
      "Example 1 OUTPUT: them multilateral them multilateral multilateral multilateral multilateral multilateral multilateral multilateral multilateral multilateral multilateral multilateral multilateral multilateral multilateral multilateral multilateral multilateral multilateral multilateral multilateral multilateral multilateral multilateral multilateral multilateral multilateral multilateral multilateral multilateral multilateral multilateral multilateral multilateral multilateral multilateral multilateral multilateral multilateral multilateral multilateral multilateral multilateral multilateral multilateral multilateral multilateral multilateral\n"
     ]
    },
    {
     "name": "stderr",
     "output_type": "stream",
     "text": [
      "                                                   \r"
     ]
    },
    {
     "name": "stdout",
     "output_type": "stream",
     "text": [
      "Loss of the epoch is 2.162415687373733\n",
      "Example 1 CORRECT:  <SOS> it 's a piece of yellow mountain with some snow . <EOS> \n",
      "\n",
      "\n",
      "Example 1 OUTPUT: many green trees are in a piece of forest . <EOS>\n",
      "Example 1 CORRECT:  <SOS> a playground is surrounded by some green trees and many buildings . <EOS> \n",
      "\n",
      "\n",
      "Example 1 OUTPUT: a playground is surrounded by many green trees and many buildings . <EOS>\n",
      "[Epoch 1 / 15]\n",
      "Example 1 CORRECT:  <SOS> there is a right bridge across the great river . <EOS> \n",
      "\n",
      "\n",
      "Example 1 OUTPUT: a playground with a football field in it is surrounded by many green trees and buildings . <EOS>\n",
      "Example 1 CORRECT:  <SOS> a basketball field and a tennis court are surrounded by many green plants . <EOS> \n",
      "\n",
      "\n",
      "Example 1 OUTPUT: many green trees and a pond are in a park . <EOS>\n"
     ]
    },
    {
     "name": "stderr",
     "output_type": "stream",
     "text": [
      "                                                   \r"
     ]
    },
    {
     "name": "stdout",
     "output_type": "stream",
     "text": [
      "Loss of the epoch is 1.6807251366464557\n",
      "Example 1 CORRECT:  <SOS> the building is high and low , different sizes . <EOS> \n",
      "\n",
      "\n",
      "Example 1 OUTPUT: many buildings and some green trees are in a school . <EOS>\n",
      "Example 1 CORRECT:  <SOS> five baseball fields are near several green trees and a road . <EOS> \n",
      "\n",
      "\n",
      "Example 1 OUTPUT: a playground is surrounded by many green trees and many buildings . <EOS>\n",
      "[Epoch 2 / 15]\n",
      "Example 1 CORRECT:  <SOS> many buildings in different sizes are in an industrial area . <EOS> \n",
      "\n",
      "\n",
      "Example 1 OUTPUT: many buildings are in a commercial area . <EOS>\n",
      "Example 1 CORRECT:  <SOS> many ripples are in a piece of khaki desert . <EOS> \n",
      "\n",
      "\n",
      "Example 1 OUTPUT: it is a piece of irregular khaki bareland . <EOS>\n"
     ]
    },
    {
     "name": "stderr",
     "output_type": "stream",
     "text": [
      "                                                   \r"
     ]
    },
    {
     "name": "stdout",
     "output_type": "stream",
     "text": [
      "Loss of the epoch is 1.5229897575572435\n",
      "Example 1 CORRECT:  <SOS> a pond with a narrow circular white bank is sandwiched between a forest and a grey white <UNK> . <EOS> \n",
      "\n",
      "\n",
      "Example 1 OUTPUT: a large number of trees are planted on both sides of the river . <EOS>\n",
      "Example 1 CORRECT:  <SOS> there is a large park next to the wide road . <EOS> \n",
      "\n",
      "\n",
      "Example 1 OUTPUT: many buildings are around a park with many green trees and a pond . <EOS>\n",
      "[Epoch 3 / 15]\n",
      "Example 1 CORRECT:  <SOS> this densely populated area is a residential area . <EOS> \n",
      "\n",
      "\n",
      "Example 1 OUTPUT: many buildings and some green trees are in a dense residential area . <EOS>\n",
      "Example 1 CORRECT:  <SOS> a playground with two basketball fields next to it is surround by some green trees . <EOS> \n",
      "\n",
      "\n",
      "Example 1 OUTPUT: many pieces of agricultural land are together . <EOS>\n"
     ]
    },
    {
     "name": "stderr",
     "output_type": "stream",
     "text": [
      "                                                   \r"
     ]
    },
    {
     "name": "stdout",
     "output_type": "stream",
     "text": [
      "Loss of the epoch is 1.4287473298201165\n",
      "Example 1 CORRECT:  <SOS> it 's a piece of yellow gray stripe . <EOS> \n",
      "\n",
      "\n",
      "Example 1 OUTPUT: it 's a piece of yellow naked land . <EOS>\n",
      "Example 1 CORRECT:  <SOS> it 's a piece of irregular mountain caki . <EOS> \n",
      "\n",
      "\n",
      "Example 1 OUTPUT: it 's a piece of irregular khaki mountain . <EOS>\n",
      "[Epoch 4 / 15]\n",
      "Example 1 CORRECT:  <SOS> some cars are near a building on an airport . <EOS> \n",
      "\n",
      "\n",
      "Example 1 OUTPUT: many cars are parked in a parking lot near a building . <EOS>\n",
      "Example 1 CORRECT:  <SOS> four white planes are on an airport . <EOS> \n",
      "\n",
      "\n",
      "Example 1 OUTPUT: a plane is near a terminal in an airport . <EOS>\n"
     ]
    },
    {
     "name": "stderr",
     "output_type": "stream",
     "text": [
      "                                                   \r"
     ]
    },
    {
     "name": "stdout",
     "output_type": "stream",
     "text": [
      "Loss of the epoch is 1.3681463313774325\n",
      "Example 1 CORRECT:  <SOS> a crooked river flows through a large area . <EOS> \n",
      "\n",
      "\n",
      "Example 1 OUTPUT: many green trees are around a square with green meadows . <EOS>\n",
      "Example 1 CORRECT:  <SOS> some storage tanks are surrounded by yellow bare land . <EOS> \n",
      "\n",
      "\n",
      "Example 1 OUTPUT: many cars are parked in a parking lot near a road . <EOS>\n",
      "[Epoch 5 / 15]\n",
      "Example 1 CORRECT:  <SOS> many buildings are located on both sides of a railway station . <EOS> \n",
      "\n",
      "\n",
      "Example 1 OUTPUT: many buildings are in a commercial area . <EOS>\n",
      "Example 1 CORRECT:  <SOS> many planes are parked near several terminals in an airport . <EOS> \n",
      "\n",
      "\n",
      "Example 1 OUTPUT: many planes are parked in an airport near a parking lot . <EOS>\n"
     ]
    },
    {
     "name": "stderr",
     "output_type": "stream",
     "text": [
      "                                                   \r"
     ]
    },
    {
     "name": "stdout",
     "output_type": "stream",
     "text": [
      "Loss of the epoch is 1.3256976522843416\n",
      "Example 1 CORRECT:  <SOS> this church is surrounded by a river . <EOS> \n",
      "\n",
      "\n",
      "Example 1 OUTPUT: a large number of trees were planted around the church . <EOS>\n",
      "Example 1 CORRECT:  <SOS> a playground is semisurrounded by many large buildings . <EOS> \n",
      "\n",
      "\n",
      "Example 1 OUTPUT: many buildings and some green trees are around a playground . <EOS>\n",
      "[Epoch 6 / 15]\n",
      "Example 1 CORRECT:  <SOS> on one side of the road that is along a row of trees there are buildings and cars while on another there is a lawn with a trail and trees along . <EOS> \n",
      "\n",
      "\n",
      "Example 1 OUTPUT: many green trees are around a building . <EOS>\n",
      "Example 1 CORRECT:  <SOS> many buildings and bareland are near a viaduct . <EOS> \n",
      "\n",
      "\n",
      "Example 1 OUTPUT: many buildings and some green trees are located on two sides of a train station . <EOS>\n"
     ]
    },
    {
     "name": "stderr",
     "output_type": "stream",
     "text": [
      "                                                   \r"
     ]
    },
    {
     "name": "stdout",
     "output_type": "stream",
     "text": [
      "Loss of the epoch is 1.3071959833490643\n",
      "Example 1 CORRECT:  <SOS> some of the floating objects float on the river . <EOS> \n",
      "\n",
      "\n",
      "Example 1 OUTPUT: many buildings and some green trees are in a school . <EOS>\n",
      "Example 1 CORRECT:  <SOS> many green trees form a piece of forest . <EOS> \n",
      "\n",
      "\n",
      "Example 1 OUTPUT: many green trees are around a building . <EOS>\n",
      "[Epoch 7 / 15]\n",
      "Example 1 CORRECT:  <SOS> the water in the sea is very rough . <EOS> \n",
      "\n",
      "\n",
      "Example 1 OUTPUT: a piece of green ocean is near a yellow beach . <EOS>\n",
      "Example 1 CORRECT:  <SOS> a road separates the industrial into two parts which contain the grey plants . <EOS> \n",
      "\n",
      "\n",
      "Example 1 OUTPUT: many buildings and some green trees are located in a commercial area . <EOS>\n"
     ]
    },
    {
     "name": "stderr",
     "output_type": "stream",
     "text": [
      "                                                   \r"
     ]
    },
    {
     "name": "stdout",
     "output_type": "stream",
     "text": [
      "Loss of the epoch is 1.3000667063469804\n",
      "Example 1 CORRECT:  <SOS> many buildings and green trees are around a regular lake . <EOS> \n",
      "\n",
      "\n",
      "Example 1 OUTPUT: many buildings are in a commercial area . <EOS>\n",
      "Example 1 CORRECT:  <SOS> there are many large buildings in this area . <EOS> \n",
      "\n",
      "\n",
      "Example 1 OUTPUT: many buildings are in a commercial area . <EOS>\n",
      "[Epoch 8 / 15]\n",
      "Example 1 CORRECT:  <SOS> many gray and red buildings are on two sides of a railway station with a viaduct on it . <EOS> \n",
      "\n",
      "\n",
      "Example 1 OUTPUT: many buildings are in a commercial area . <EOS>\n",
      "Example 1 CORRECT:  <SOS> many green trees are near several buildings in a forest . <EOS> \n",
      "\n",
      "\n",
      "Example 1 OUTPUT: many green trees are in a forest . <EOS>\n"
     ]
    },
    {
     "name": "stderr",
     "output_type": "stream",
     "text": [
      "                                                   \r"
     ]
    },
    {
     "name": "stdout",
     "output_type": "stream",
     "text": [
      "Loss of the epoch is 1.2806044823500284\n",
      "Example 1 CORRECT:  <SOS> many buildings and some green trees are located in a commercial area near a river . <EOS> \n",
      "\n",
      "\n",
      "Example 1 OUTPUT: a playground with two basketball fields in it is surrounded by many buildings and some trees . <EOS>\n",
      "Example 1 CORRECT:  <SOS> some green trees are near a central square building . <EOS> \n",
      "\n",
      "\n",
      "Example 1 OUTPUT: a playground with a football field in it is close to a road . <EOS>\n",
      "[Epoch 9 / 15]\n",
      "Example 1 CORRECT:  <SOS> four planes are standing on a square tarmac <UNK> netlike runways and several buildings . <EOS> \n",
      "\n",
      "\n",
      "Example 1 OUTPUT: many buildings are located on both sides of a railway station . <EOS>\n",
      "Example 1 CORRECT:  <SOS> there is a pond in the middle of the land . <EOS> \n",
      "\n",
      "\n",
      "Example 1 OUTPUT: many green trees are around a pond . <EOS>\n"
     ]
    },
    {
     "name": "stderr",
     "output_type": "stream",
     "text": [
      "                                                   \r"
     ]
    },
    {
     "name": "stdout",
     "output_type": "stream",
     "text": [
      "Loss of the epoch is 1.293895852584421\n",
      "Example 1 CORRECT:  <SOS> many green trees and some buildings are in a resort near a river . <EOS> \n",
      "\n",
      "\n",
      "Example 1 OUTPUT: many buildings and some green trees are in a commercial area . <EOS>\n",
      "Example 1 CORRECT:  <SOS> port is very scattered the residents around . <EOS> \n",
      "\n",
      "\n",
      "Example 1 OUTPUT: many buildings and some green trees are in a commercial area . <EOS>\n",
      "[Epoch 10 / 15]\n",
      "Example 1 CORRECT:  <SOS> some boats in a port are near many buildings . <EOS> \n",
      "\n",
      "\n",
      "Example 1 OUTPUT: many buildings and some green trees are in a commercial area . <EOS>\n",
      "Example 1 CORRECT:  <SOS> the grey of the open road through many dense green trees . <EOS> \n",
      "\n",
      "\n",
      "Example 1 OUTPUT: many green trees and some buildings are located on both sides of a train station . <EOS>\n"
     ]
    },
    {
     "name": "stderr",
     "output_type": "stream",
     "text": [
      "                                                   \r"
     ]
    },
    {
     "name": "stdout",
     "output_type": "stream",
     "text": [
      "Loss of the epoch is 1.2662161997692871\n",
      "Example 1 CORRECT:  <SOS> many large trees are planted around the baseball field . <EOS> \n",
      "\n",
      "\n",
      "Example 1 OUTPUT: a large number of trees were planted around the lake . <EOS>\n",
      "Example 1 CORRECT:  <SOS> many green trees and some buildings are in a medium residential area . <EOS> \n",
      "\n",
      "\n",
      "Example 1 OUTPUT: a large number of trees were planted around the house . <EOS>\n",
      "[Epoch 11 / 15]\n",
      "Example 1 CORRECT:  <SOS> a bridge is on a river with several buildings on one side of it . <EOS> \n",
      "\n",
      "\n",
      "Example 1 OUTPUT: a large number of trees were planted around the factory . <EOS>\n",
      "Example 1 CORRECT:  <SOS> many buildings are on two sides of a railway station . <EOS> \n",
      "\n",
      "\n",
      "Example 1 OUTPUT: many buildings and some green trees are in a school . <EOS>\n"
     ]
    },
    {
     "name": "stderr",
     "output_type": "stream",
     "text": [
      "                                                   \r"
     ]
    },
    {
     "name": "stdout",
     "output_type": "stream",
     "text": [
      "Loss of the epoch is 1.2454321216995914\n",
      "Example 1 CORRECT:  <SOS> many buildings and green trees are located in a dense residential area . <EOS> \n",
      "\n",
      "\n",
      "Example 1 OUTPUT: many green trees are around a circle square . <EOS>\n",
      "Example 1 CORRECT:  <SOS> a playground and a building are near railways . <EOS> \n",
      "\n",
      "\n",
      "Example 1 OUTPUT: a large number of trees are planted on both sides of the road . <EOS>\n",
      "[Epoch 12 / 15]\n",
      "Example 1 CORRECT:  <SOS> many green trees are in two sides of a curved small river . <EOS> \n",
      "\n",
      "\n",
      "Example 1 OUTPUT: many green trees are in a forest . <EOS>\n",
      "Example 1 CORRECT:  <SOS> a playground is semi - surrounded by some green trees and many buildings . <EOS> \n",
      "\n",
      "\n",
      "Example 1 OUTPUT: many buildings and some green trees are located in a commercial area . <EOS>\n"
     ]
    },
    {
     "name": "stderr",
     "output_type": "stream",
     "text": [
      "                                                   \r"
     ]
    },
    {
     "name": "stdout",
     "output_type": "stream",
     "text": [
      "Loss of the epoch is 1.2014114070386395\n",
      "Example 1 CORRECT:  <SOS> two white planes parked at the airport . <EOS> \n",
      "\n",
      "\n",
      "Example 1 OUTPUT: many buildings and some green trees are in a school . <EOS>\n",
      "Example 1 CORRECT:  <SOS> it 's a piece of irregular khaki mountain . <EOS> \n",
      "\n",
      "\n",
      "Example 1 OUTPUT: many green trees are around a square with green meadows . <EOS>\n",
      "[Epoch 13 / 15]\n",
      "Example 1 CORRECT:  <SOS> there is a church building in the middle of the circle , parking in the parking lot . <EOS> \n",
      "\n",
      "\n",
      "Example 1 OUTPUT: many green trees are around a square . <EOS>\n",
      "Example 1 CORRECT:  <SOS> a playground and two basketball fields are surrounded by several buildings and two roads . <EOS> \n",
      "\n",
      "\n",
      "Example 1 OUTPUT: many green trees and some buildings are in a school . <EOS>\n"
     ]
    },
    {
     "name": "stderr",
     "output_type": "stream",
     "text": [
      "                                                   \r"
     ]
    },
    {
     "name": "stdout",
     "output_type": "stream",
     "text": [
      "Loss of the epoch is 1.1855509250843095\n",
      "Example 1 CORRECT:  <SOS> on one side of the viaduct there is a bare land while on the other are some trees and grassy ground . <EOS> \n",
      "\n",
      "\n",
      "Example 1 OUTPUT: many green trees are around a circle square . <EOS>\n",
      "Example 1 CORRECT:  <SOS> yellow beach is near a large piece of ocean . <EOS> \n",
      "\n",
      "\n",
      "Example 1 OUTPUT: a piece of ocean is near a yellow beach . <EOS>\n",
      "[Epoch 14 / 15]\n",
      "Example 1 CORRECT:  <SOS> there is a huge rectangular building located in the <UNK> of white rails . <EOS> \n",
      "\n",
      "\n",
      "Example 1 OUTPUT: many buildings are located on two sides of a railway station . <EOS>\n",
      "Example 1 CORRECT:  <SOS> some scarce plants are in a bare piece of land . <EOS> \n",
      "\n",
      "\n",
      "Example 1 OUTPUT: it is a piece of yellow desert . <EOS>\n"
     ]
    },
    {
     "name": "stderr",
     "output_type": "stream",
     "text": [
      "                                                   \r"
     ]
    },
    {
     "name": "stdout",
     "output_type": "stream",
     "text": [
      "Loss of the epoch is 1.1531013954599885\n",
      "Example 1 CORRECT:  <SOS> the green area is surrounded by houses and is sandwiched in the middle of the road . <EOS> \n",
      "\n",
      "\n",
      "Example 1 OUTPUT: many green trees and some buildings are in a resort with a pond . <EOS>\n",
      "Example 1 CORRECT:  <SOS> the port is embraced with dark green water while the industrial zone is occupied . <EOS> \n",
      "\n",
      "\n",
      "Example 1 OUTPUT: many green trees are around a square of circle . <EOS>\n"
     ]
    }
   ],
   "source": [
    "train()"
   ]
  }
 ],
 "metadata": {
  "kernelspec": {
   "display_name": "ml",
   "language": "python",
   "name": "python3"
  },
  "language_info": {
   "codemirror_mode": {
    "name": "ipython",
    "version": 3
   },
   "file_extension": ".py",
   "mimetype": "text/x-python",
   "name": "python",
   "nbconvert_exporter": "python",
   "pygments_lexer": "ipython3",
   "version": "3.12.5"
  }
 },
 "nbformat": 4,
 "nbformat_minor": 2
}
