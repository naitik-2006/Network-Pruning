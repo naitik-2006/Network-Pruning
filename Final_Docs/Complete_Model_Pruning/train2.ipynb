{
 "cells": [
  {
   "cell_type": "markdown",
   "metadata": {},
   "source": [
    "## Training Unpruned Model [Not Our Approach]"
   ]
  },
  {
   "cell_type": "code",
   "execution_count": 1,
   "metadata": {},
   "outputs": [],
   "source": [
    "import torch\n",
    "import torch.optim as optim\n",
    "from get_loader import get_loader\n",
    "from torchvision import transforms\n",
    "import New_Pruned_Model\n",
    "import torch.nn as nn\n",
    "from tqdm import tqdm\n",
    "from torch.utils.tensorboard import SummaryWriter\n",
    "from utils import print_examples\n",
    "from New_Pruned_Model import EncoderCNN"
   ]
  },
  {
   "cell_type": "code",
   "execution_count": 2,
   "metadata": {},
   "outputs": [],
   "source": [
    "mse_loss = nn.MSELoss()\n",
    "def match_hidden_states(sub_network_hidden_states, decoder_hidden_states , num_selected_layers = 3):\n",
    "    # Here we have to select the layers coming with decoder network\n",
    "    num_total_layers = len(decoder_hidden_states)\n",
    "    selected_layers_indices = [num_selected_layers - 1]\n",
    "    for i in range(num_selected_layers - 1):\n",
    "        selected_layers_indices.append(int((num_total_layers - 1) * (i + 1)/num_selected_layers))\n",
    "    \n",
    "    selected_decoder_hidden_states = [decoder_hidden_states[idx] for idx in selected_layers_indices]\n",
    "    loss = 0 \n",
    "    for sub_state, dec_state in zip(sub_network_hidden_states, selected_decoder_hidden_states):\n",
    "        loss += mse_loss(sub_state, dec_state)\n",
    "    return loss"
   ]
  },
  {
   "cell_type": "code",
   "execution_count": 3,
   "metadata": {},
   "outputs": [],
   "source": [
    "def train():\n",
    "    mse_loss_2 = nn.MSELoss()\n",
    "    transform = transforms.Compose([transforms.Resize((350,350)),transforms.RandomCrop((256,256)),\n",
    "                                transforms.ToTensor(), transforms.Normalize((0.5, 0.5, 0.5), (0.5, 0.5, 0.5))])\n",
    "\n",
    "    images_path , caption_path = r\"D:\\ML\\Korea\\Jishu\\Jishu\\rsicd\\images\" , r\"D:\\ML\\Korea\\Jishu\\Jishu\\rsicd\\captions.csv\"\n",
    "    pruned_resnet_model_path = r\"D:\\ML\\Korea\\Jishu\\Jishu\\Cnn_Pruning\\Pruned_Resnet\\fine_tuned_model.pth\"\n",
    "    \n",
    "    BATCH_SIZE = 32\n",
    "    data_loader , dataset = get_loader(images_path,caption_path ,transform,batch_size = BATCH_SIZE,num_workers=4)\n",
    "    device = torch.device(\"cuda\" if torch.cuda.is_available() else \"cpu\")\n",
    "    num_epochs = 20\n",
    "    learning_rate = 3e-4\n",
    "    trg_vocab_size = len(dataset.vocab)\n",
    "    embedding_size = 512\n",
    "    num_heads = 8\n",
    "    num_decoder_layers = 2\n",
    "    dropout = 0.10\n",
    "    pad_idx=dataset.vocab.stoi[\"<PAD>\"]\n",
    "    save_model = True\n",
    "    writer =SummaryWriter(\"runs/loss_plot\")\n",
    "    step = 0\n",
    "    encoder_regularization_penalty = 0.01\n",
    "    decoder_regularizartion_penalty = 0.01 \n",
    "    \n",
    "    model = New_Pruned_Model.EncodertoDecoder(embeding_size=embedding_size, trg_vocab_size=trg_vocab_size, num_heads=num_heads, num_decoder_layers=4, dropout=dropout).to(device)\n",
    "    model.load_state_dict(torch.load(r'D:\\ML\\Korea\\Jishu\\Jishu\\Final_Docs\\Complete_Model_Pruning\\model.pth', map_location=device))\n",
    "    model = model.to(device)\n",
    "    \n",
    "    # Now we define the pruned model\n",
    "    pruned_model = New_Pruned_Model.PrunedEncodertoDecoder(embeding_size=embedding_size,\n",
    "                            trg_vocab_size=trg_vocab_size, num_heads=num_heads,\n",
    "                            num_decoder_layers=num_decoder_layers,\n",
    "                            dropout=dropout , pruned_resnet_model_path = pruned_resnet_model_path).to(device)\n",
    "    \n",
    "    \n",
    "    optimizer = optim.Adam(pruned_model.parameters(),lr = learning_rate)\n",
    "    criterion2 = nn.CrossEntropyLoss(ignore_index=pad_idx)\n",
    "    \n",
    "    l = []\n",
    "    for epoch in range(num_epochs):\n",
    "        print(f\"[Epoch {epoch} / {num_epochs}]\")\n",
    "        model.eval()\n",
    "        pruned_model.train()\n",
    "        Total_loss = 0.0\n",
    "        for idx, (images, captions) in tqdm(enumerate(data_loader), total=len(data_loader), leave=False):\n",
    "            images = images.to(device)\n",
    "            captions = captions.to(device)\n",
    "            with torch.no_grad():\n",
    "                output , hidden_original_decoder_outputs = model(images, captions[:-1])\n",
    "                \n",
    "            pruned_model_outputs , hidden_pruned_decoder_outputs = pruned_model(images , captions[:-1])\n",
    "            pruned_model_outputs = pruned_model_outputs.reshape(-1 , pruned_model_outputs.shape[2])\n",
    "            target = output.reshape(-1 , output.shape[2]).to(device)\n",
    "            \n",
    "            optimizer.zero_grad()\n",
    "            # print(pruned_model_outputs.shape , target.shape)\n",
    "            loss_match = mse_loss_2(pruned_model_outputs , target)\n",
    "            \n",
    "            # Compute the L2 Regularization loss of the encoder weights\n",
    "            l2_reg = pruned_model.encoder.compute_penalty(encoder_regularization_penalty)\n",
    "            mse_loss = match_hidden_states(hidden_pruned_decoder_outputs,hidden_original_decoder_outputs)\n",
    "            dec_loss = mse_loss * decoder_regularizartion_penalty\n",
    "            \n",
    "            # Now calculate the total loss\n",
    "            total_loss = loss_match + l2_reg + dec_loss\n",
    "            lossofepoch = total_loss.item()\n",
    "            Total_loss += lossofepoch\n",
    "            total_loss.backward()\n",
    "            \n",
    "            torch.nn.utils.clip_grad_norm_(pruned_model.parameters(),max_norm=1)\n",
    "            optimizer.step()\n",
    "            writer.add_scalar(\"Training Loss\",Total_loss,global_step=step)\n",
    "            step+=1\n",
    "            \n",
    "        LOSS = Total_loss / len(data_loader)\n",
    "        l.append(LOSS) \n",
    "        print(\"Loss of the epoch is\", Total_loss / len(data_loader))\n",
    "        torch.save(pruned_model , 'unpruned_model_final.pth')\n",
    "            \n",
    "\n",
    "        pruned_model.eval()\n",
    "        print_examples(pruned_model, device, dataset)"
   ]
  },
  {
   "cell_type": "code",
   "execution_count": 4,
   "metadata": {},
   "outputs": [
    {
     "name": "stderr",
     "output_type": "stream",
     "text": [
      "c:\\Users\\codes\\anaconda3\\envs\\ml\\Lib\\site-packages\\torchvision\\models\\_utils.py:208: UserWarning: The parameter 'pretrained' is deprecated since 0.13 and may be removed in the future, please use 'weights' instead.\n",
      "  warnings.warn(\n",
      "c:\\Users\\codes\\anaconda3\\envs\\ml\\Lib\\site-packages\\torchvision\\models\\_utils.py:223: UserWarning: Arguments other than a weight enum or `None` for 'weights' are deprecated since 0.13 and may be removed in the future. The current behavior is equivalent to passing `weights=ResNet101_Weights.IMAGENET1K_V1`. You can also use `weights=ResNet101_Weights.DEFAULT` to get the most up-to-date weights.\n",
      "  warnings.warn(msg)\n",
      "c:\\Users\\codes\\anaconda3\\envs\\ml\\Lib\\site-packages\\torch\\nn\\modules\\transformer.py:307: UserWarning: enable_nested_tensor is True, but self.use_nested_tensor is False because encoder_layer.self_attn.batch_first was not True(use batch_first for better inference performance)\n",
      "  warnings.warn(f\"enable_nested_tensor is True, but self.use_nested_tensor is False because {why_not_sparsity_fast_path}\")\n",
      "C:\\Users\\codes\\AppData\\Local\\Temp\\ipykernel_22500\\1840054960.py:27: FutureWarning: You are using `torch.load` with `weights_only=False` (the current default value), which uses the default pickle module implicitly. It is possible to construct malicious pickle data which will execute arbitrary code during unpickling (See https://github.com/pytorch/pytorch/blob/main/SECURITY.md#untrusted-models for more details). In a future release, the default value for `weights_only` will be flipped to `True`. This limits the functions that could be executed during unpickling. Arbitrary objects will no longer be allowed to be loaded via this mode unless they are explicitly allowlisted by the user via `torch.serialization.add_safe_globals`. We recommend you start setting `weights_only=True` for any use case where you don't have full control of the loaded file. Please open an issue on GitHub for any issues related to this experimental feature.\n",
      "  model.load_state_dict(torch.load(r'D:\\ML\\Korea\\Jishu\\Jishu\\Final_Docs\\Complete_Model_Pruning\\model.pth', map_location=device))\n",
      "d:\\ML\\Korea\\Jishu\\Jishu\\Final_Docs\\Complete_Model_Pruning\\New_Pruned_Model.py:229: FutureWarning: You are using `torch.load` with `weights_only=False` (the current default value), which uses the default pickle module implicitly. It is possible to construct malicious pickle data which will execute arbitrary code during unpickling (See https://github.com/pytorch/pytorch/blob/main/SECURITY.md#untrusted-models for more details). In a future release, the default value for `weights_only` will be flipped to `True`. This limits the functions that could be executed during unpickling. Arbitrary objects will no longer be allowed to be loaded via this mode unless they are explicitly allowlisted by the user via `torch.serialization.add_safe_globals`. We recommend you start setting `weights_only=True` for any use case where you don't have full control of the loaded file. Please open an issue on GitHub for any issues related to this experimental feature.\n",
      "  self.pruned_image_encoder = torch.load(pruned_resnet_model_path)\n"
     ]
    },
    {
     "name": "stdout",
     "output_type": "stream",
     "text": [
      "[Epoch 0 / 20]\n"
     ]
    },
    {
     "name": "stderr",
     "output_type": "stream",
     "text": [
      "  0%|          | 0/1278 [00:00<?, ?it/s]c:\\Users\\codes\\anaconda3\\envs\\ml\\Lib\\site-packages\\torch\\nn\\functional.py:5560: UserWarning: 1Torch was not compiled with flash attention. (Triggered internally at C:\\cb\\pytorch_1000000000000\\work\\aten\\src\\ATen\\native\\transformers\\cuda\\sdp_utils.cpp:555.)\n",
      "  attn_output = scaled_dot_product_attention(q, k, v, attn_mask, dropout_p, is_causal)\n",
      "c:\\Users\\codes\\anaconda3\\envs\\ml\\Lib\\site-packages\\torch\\nn\\functional.py:5193: UserWarning: Support for mismatched key_padding_mask and attn_mask is deprecated. Use same type for both instead.\n",
      "  warnings.warn(\n",
      "                                                   \r"
     ]
    },
    {
     "name": "stdout",
     "output_type": "stream",
     "text": [
      "Loss of the epoch is 31.23588681407564\n"
     ]
    },
    {
     "name": "stderr",
     "output_type": "stream",
     "text": [
      "c:\\Users\\codes\\anaconda3\\envs\\ml\\Lib\\site-packages\\torch\\nn\\functional.py:5193: UserWarning: Support for mismatched key_padding_mask and attn_mask is deprecated. Use same type for both instead.\n",
      "  warnings.warn(\n"
     ]
    },
    {
     "name": "stdout",
     "output_type": "stream",
     "text": [
      "Example 1 CORRECT:  <SOS> the roundabout is surrounded by eight buildings . <EOS> \n",
      "\n",
      "\n",
      "Example 1 OUTPUT:  many green trees are in a piece of green meadow . <EOS>\n",
      "Example 1 CORRECT:  <SOS> many pieces of agricultural land and some scattered buildings are together . <EOS> \n",
      "\n",
      "\n",
      "Example 1 OUTPUT:  many green trees are in a piece of yellow bareland . <EOS>\n",
      "\n",
      "\n",
      "[Epoch 1 / 20]\n"
     ]
    },
    {
     "name": "stderr",
     "output_type": "stream",
     "text": [
      "                                                   \r"
     ]
    },
    {
     "name": "stdout",
     "output_type": "stream",
     "text": [
      "Loss of the epoch is 9.78528596798952\n"
     ]
    },
    {
     "name": "stderr",
     "output_type": "stream",
     "text": [
      "c:\\Users\\codes\\anaconda3\\envs\\ml\\Lib\\site-packages\\torch\\nn\\functional.py:5193: UserWarning: Support for mismatched key_padding_mask and attn_mask is deprecated. Use same type for both instead.\n",
      "  warnings.warn(\n"
     ]
    },
    {
     "name": "stdout",
     "output_type": "stream",
     "text": [
      "Example 1 CORRECT:  <SOS> a large number of trees were planted around the house . <EOS> \n",
      "\n",
      "\n",
      "Example 1 OUTPUT:  many green trees are around a square with a pond . <EOS>\n",
      "Example 1 CORRECT:  <SOS> it 's a big piece of mountain . <EOS> \n",
      "\n",
      "\n",
      "Example 1 OUTPUT:  many green trees are in a forest . <EOS>\n",
      "\n",
      "\n",
      "[Epoch 2 / 20]\n"
     ]
    },
    {
     "name": "stderr",
     "output_type": "stream",
     "text": [
      "                                                   \r"
     ]
    },
    {
     "name": "stdout",
     "output_type": "stream",
     "text": [
      "Loss of the epoch is 2.7596474512828535\n"
     ]
    },
    {
     "name": "stderr",
     "output_type": "stream",
     "text": [
      "c:\\Users\\codes\\anaconda3\\envs\\ml\\Lib\\site-packages\\torch\\nn\\functional.py:5193: UserWarning: Support for mismatched key_padding_mask and attn_mask is deprecated. Use same type for both instead.\n",
      "  warnings.warn(\n"
     ]
    },
    {
     "name": "stdout",
     "output_type": "stream",
     "text": [
      "Example 1 CORRECT:  <SOS> four white storage tanks are close to a crossroads on a bare piece of land . <EOS> \n",
      "\n",
      "\n",
      "Example 1 OUTPUT:  many green trees are around a square . <EOS>\n",
      "Example 1 CORRECT:  <SOS> the distictive terminal building embraces the airplanes stopped here . <EOS> \n",
      "\n",
      "\n",
      "Example 1 OUTPUT:  many green trees are around a square with a circle . <EOS>\n",
      "\n",
      "\n",
      "[Epoch 3 / 20]\n"
     ]
    },
    {
     "name": "stderr",
     "output_type": "stream",
     "text": [
      "                                                   \r"
     ]
    },
    {
     "name": "stdout",
     "output_type": "stream",
     "text": [
      "Loss of the epoch is 1.1501898534234514\n"
     ]
    },
    {
     "name": "stderr",
     "output_type": "stream",
     "text": [
      "c:\\Users\\codes\\anaconda3\\envs\\ml\\Lib\\site-packages\\torch\\nn\\functional.py:5193: UserWarning: Support for mismatched key_padding_mask and attn_mask is deprecated. Use same type for both instead.\n",
      "  warnings.warn(\n"
     ]
    },
    {
     "name": "stdout",
     "output_type": "stream",
     "text": [
      "Example 1 CORRECT:  <SOS> several buildings are close to a playground next to a road . <EOS> \n",
      "\n",
      "\n",
      "Example 1 OUTPUT:  many green trees and some buildings are in a resort . <EOS>\n",
      "Example 1 CORRECT:  <SOS> it is a piece of bareland . <EOS> \n",
      "\n",
      "\n",
      "Example 1 OUTPUT:  the desert is very vast . <EOS>\n",
      "\n",
      "\n",
      "[Epoch 4 / 20]\n"
     ]
    },
    {
     "name": "stderr",
     "output_type": "stream",
     "text": [
      "                                                   \r"
     ]
    },
    {
     "name": "stdout",
     "output_type": "stream",
     "text": [
      "Loss of the epoch is 0.9545846092215913\n"
     ]
    },
    {
     "name": "stderr",
     "output_type": "stream",
     "text": [
      "c:\\Users\\codes\\anaconda3\\envs\\ml\\Lib\\site-packages\\torch\\nn\\functional.py:5193: UserWarning: Support for mismatched key_padding_mask and attn_mask is deprecated. Use same type for both instead.\n",
      "  warnings.warn(\n"
     ]
    },
    {
     "name": "stdout",
     "output_type": "stream",
     "text": [
      "Example 1 CORRECT:  <SOS> this piece of the forest is green and dense . <EOS> \n",
      "\n",
      "\n",
      "Example 1 OUTPUT:  many green trees are in a forest . <EOS>\n",
      "Example 1 CORRECT:  <SOS> some green trees are close to a central square building . <EOS> \n",
      "\n",
      "\n",
      "Example 1 OUTPUT:  many green trees are around a square with a circle . <EOS>\n",
      "\n",
      "\n",
      "[Epoch 5 / 20]\n"
     ]
    },
    {
     "name": "stderr",
     "output_type": "stream",
     "text": [
      "                                                   \r"
     ]
    },
    {
     "name": "stdout",
     "output_type": "stream",
     "text": [
      "Loss of the epoch is 0.9154164511273165\n"
     ]
    },
    {
     "name": "stderr",
     "output_type": "stream",
     "text": [
      "c:\\Users\\codes\\anaconda3\\envs\\ml\\Lib\\site-packages\\torch\\nn\\functional.py:5193: UserWarning: Support for mismatched key_padding_mask and attn_mask is deprecated. Use same type for both instead.\n",
      "  warnings.warn(\n"
     ]
    },
    {
     "name": "stdout",
     "output_type": "stream",
     "text": [
      "Example 1 CORRECT:  <SOS> this square sits next to a parking lot crammed with cars . <EOS> \n",
      "\n",
      "\n",
      "Example 1 OUTPUT:  many green trees and some buildings are in a resort . <EOS>\n",
      "Example 1 CORRECT:  <SOS> some people are sparsely in a piece of green meadow . <EOS> \n",
      "\n",
      "\n",
      "Example 1 OUTPUT:  many green trees are in a forest . <EOS>\n",
      "\n",
      "\n",
      "[Epoch 6 / 20]\n"
     ]
    },
    {
     "name": "stderr",
     "output_type": "stream",
     "text": [
      "                                                   \r"
     ]
    },
    {
     "name": "stdout",
     "output_type": "stream",
     "text": [
      "Loss of the epoch is 0.8896345334340335\n"
     ]
    },
    {
     "name": "stderr",
     "output_type": "stream",
     "text": [
      "c:\\Users\\codes\\anaconda3\\envs\\ml\\Lib\\site-packages\\torch\\nn\\functional.py:5193: UserWarning: Support for mismatched key_padding_mask and attn_mask is deprecated. Use same type for both instead.\n",
      "  warnings.warn(\n"
     ]
    },
    {
     "name": "stdout",
     "output_type": "stream",
     "text": [
      "Example 1 CORRECT:  <SOS> the school is on the roadside . <EOS> \n",
      "\n",
      "\n",
      "Example 1 OUTPUT:  many green trees and some buildings are in a resort with a pond . <EOS>\n",
      "Example 1 CORRECT:  <SOS> many cars are in an irregular parking lot surrounded by some green trees . <EOS> \n",
      "\n",
      "\n",
      "Example 1 OUTPUT:  many green trees are in a forest . <EOS>\n",
      "\n",
      "\n",
      "[Epoch 7 / 20]\n"
     ]
    },
    {
     "name": "stderr",
     "output_type": "stream",
     "text": [
      "                                                   \r"
     ]
    },
    {
     "name": "stdout",
     "output_type": "stream",
     "text": [
      "Loss of the epoch is 0.8644981198187726\n"
     ]
    },
    {
     "name": "stderr",
     "output_type": "stream",
     "text": [
      "c:\\Users\\codes\\anaconda3\\envs\\ml\\Lib\\site-packages\\torch\\nn\\functional.py:5193: UserWarning: Support for mismatched key_padding_mask and attn_mask is deprecated. Use same type for both instead.\n",
      "  warnings.warn(\n"
     ]
    },
    {
     "name": "stdout",
     "output_type": "stream",
     "text": [
      "Example 1 CORRECT:  <SOS> many trees are planted on both sides of the road . <EOS> \n",
      "\n",
      "\n",
      "Example 1 OUTPUT:  many green trees are in a forest . <EOS>\n",
      "Example 1 CORRECT:  <SOS> many green trees are on both sides of a river with a bridge over it . <EOS> \n",
      "\n",
      "\n",
      "Example 1 OUTPUT:  many green trees and some buildings are in a park . <EOS>\n",
      "\n",
      "\n",
      "[Epoch 8 / 20]\n"
     ]
    },
    {
     "name": "stderr",
     "output_type": "stream",
     "text": [
      "                                                   \r"
     ]
    },
    {
     "name": "stdout",
     "output_type": "stream",
     "text": [
      "Loss of the epoch is 0.8445473491958982\n"
     ]
    },
    {
     "name": "stderr",
     "output_type": "stream",
     "text": [
      "c:\\Users\\codes\\anaconda3\\envs\\ml\\Lib\\site-packages\\torch\\nn\\functional.py:5193: UserWarning: Support for mismatched key_padding_mask and attn_mask is deprecated. Use same type for both instead.\n",
      "  warnings.warn(\n"
     ]
    },
    {
     "name": "stdout",
     "output_type": "stream",
     "text": [
      "Example 1 CORRECT:  <SOS> this <UNK> is patting the flat yellow beach . <EOS> \n",
      "\n",
      "\n",
      "Example 1 OUTPUT:  the sea is very beautiful . <EOS>\n",
      "Example 1 CORRECT:  <SOS> some buildings and green trees are around a playground and several basketball fields . <EOS> \n",
      "\n",
      "\n",
      "Example 1 OUTPUT:  many green trees and some buildings are in a resort with a pond . <EOS>\n",
      "\n",
      "\n",
      "[Epoch 9 / 20]\n"
     ]
    },
    {
     "name": "stderr",
     "output_type": "stream",
     "text": [
      "                                                   \r"
     ]
    },
    {
     "name": "stdout",
     "output_type": "stream",
     "text": [
      "Loss of the epoch is 0.8283466185109343\n"
     ]
    },
    {
     "name": "stderr",
     "output_type": "stream",
     "text": [
      "c:\\Users\\codes\\anaconda3\\envs\\ml\\Lib\\site-packages\\torch\\nn\\functional.py:5193: UserWarning: Support for mismatched key_padding_mask and attn_mask is deprecated. Use same type for both instead.\n",
      "  warnings.warn(\n"
     ]
    },
    {
     "name": "stdout",
     "output_type": "stream",
     "text": [
      "Example 1 CORRECT:  <SOS> a squared bareland is surrounded by roads . <EOS> \n",
      "\n",
      "\n",
      "Example 1 OUTPUT:  many green trees are in a piece of yellow desert . <EOS>\n",
      "Example 1 CORRECT:  <SOS> a <UNK> arrangement of the buildings around the sparse vegetation in . <EOS> \n",
      "\n",
      "\n",
      "Example 1 OUTPUT:  many buildings and some green trees are in a commercial area . <EOS>\n",
      "\n",
      "\n",
      "[Epoch 10 / 20]\n"
     ]
    },
    {
     "name": "stderr",
     "output_type": "stream",
     "text": [
      "                                                   \r"
     ]
    },
    {
     "name": "stdout",
     "output_type": "stream",
     "text": [
      "Loss of the epoch is 0.8112595766922678\n"
     ]
    },
    {
     "name": "stderr",
     "output_type": "stream",
     "text": [
      "c:\\Users\\codes\\anaconda3\\envs\\ml\\Lib\\site-packages\\torch\\nn\\functional.py:5193: UserWarning: Support for mismatched key_padding_mask and attn_mask is deprecated. Use same type for both instead.\n",
      "  warnings.warn(\n"
     ]
    },
    {
     "name": "stdout",
     "output_type": "stream",
     "text": [
      "Example 1 CORRECT:  <SOS> many cars are parked on two sides of a road . <EOS> \n",
      "\n",
      "\n",
      "Example 1 OUTPUT:  many green trees and some buildings are in a resort . <EOS>\n",
      "Example 1 CORRECT:  <SOS> the <UNK> - shaped square contains bare land and trees . <EOS> \n",
      "\n",
      "\n",
      "Example 1 OUTPUT:  many green trees are around a square . <EOS>\n",
      "\n",
      "\n",
      "[Epoch 11 / 20]\n"
     ]
    },
    {
     "name": "stderr",
     "output_type": "stream",
     "text": [
      "                                                   \r"
     ]
    },
    {
     "name": "stdout",
     "output_type": "stream",
     "text": [
      "Loss of the epoch is 0.7991010351266846\n"
     ]
    },
    {
     "name": "stderr",
     "output_type": "stream",
     "text": [
      "c:\\Users\\codes\\anaconda3\\envs\\ml\\Lib\\site-packages\\torch\\nn\\functional.py:5193: UserWarning: Support for mismatched key_padding_mask and attn_mask is deprecated. Use same type for both instead.\n",
      "  warnings.warn(\n"
     ]
    },
    {
     "name": "stdout",
     "output_type": "stream",
     "text": [
      "Example 1 CORRECT:  <SOS> some boats are scattered in a port near a pier . <EOS> \n",
      "\n",
      "\n",
      "Example 1 OUTPUT:  a large number of trees are planted on both sides of the river . <EOS>\n",
      "Example 1 CORRECT:  <SOS> school buildings <UNK> in size , concentrated in the south . <EOS> \n",
      "\n",
      "\n",
      "Example 1 OUTPUT:  many green trees and some buildings are in a resort with a pond . <EOS>\n",
      "\n",
      "\n",
      "[Epoch 12 / 20]\n"
     ]
    },
    {
     "name": "stderr",
     "output_type": "stream",
     "text": [
      "                                                   \r"
     ]
    },
    {
     "name": "stdout",
     "output_type": "stream",
     "text": [
      "Loss of the epoch is 0.7875554970639039\n"
     ]
    },
    {
     "name": "stderr",
     "output_type": "stream",
     "text": [
      "c:\\Users\\codes\\anaconda3\\envs\\ml\\Lib\\site-packages\\torch\\nn\\functional.py:5193: UserWarning: Support for mismatched key_padding_mask and attn_mask is deprecated. Use same type for both instead.\n",
      "  warnings.warn(\n"
     ]
    },
    {
     "name": "stdout",
     "output_type": "stream",
     "text": [
      "Example 1 CORRECT:  <SOS> a row of gray roofed houses near a baseball field . <EOS> \n",
      "\n",
      "\n",
      "Example 1 OUTPUT:  many green trees are around a square with some green trees . <EOS>\n",
      "Example 1 CORRECT:  <SOS> some green buildings and trees are near a viaduct with a circle with a large building on it . <EOS> \n",
      "\n",
      "\n",
      "Example 1 OUTPUT:  many green trees are around a square with some green trees . <EOS>\n",
      "\n",
      "\n",
      "[Epoch 13 / 20]\n"
     ]
    },
    {
     "name": "stderr",
     "output_type": "stream",
     "text": [
      "                                                   \r"
     ]
    },
    {
     "name": "stdout",
     "output_type": "stream",
     "text": [
      "Loss of the epoch is 0.7764074427887494\n"
     ]
    },
    {
     "name": "stderr",
     "output_type": "stream",
     "text": [
      "c:\\Users\\codes\\anaconda3\\envs\\ml\\Lib\\site-packages\\torch\\nn\\functional.py:5193: UserWarning: Support for mismatched key_padding_mask and attn_mask is deprecated. Use same type for both instead.\n",
      "  warnings.warn(\n"
     ]
    },
    {
     "name": "stdout",
     "output_type": "stream",
     "text": [
      "Example 1 CORRECT:  <SOS> it is a piece of khaki bareland . <EOS> \n",
      "\n",
      "\n",
      "Example 1 OUTPUT:  it 's a piece of yellow desert . <EOS>\n",
      "Example 1 CORRECT:  <SOS> some white snow covers part of the irregular mountain caki . <EOS> \n",
      "\n",
      "\n",
      "Example 1 OUTPUT:  many green trees are in a forest . <EOS>\n",
      "\n",
      "\n",
      "[Epoch 14 / 20]\n"
     ]
    },
    {
     "name": "stderr",
     "output_type": "stream",
     "text": [
      "                                                   \r"
     ]
    },
    {
     "name": "stdout",
     "output_type": "stream",
     "text": [
      "Loss of the epoch is 0.7670063949153644\n"
     ]
    },
    {
     "name": "stderr",
     "output_type": "stream",
     "text": [
      "c:\\Users\\codes\\anaconda3\\envs\\ml\\Lib\\site-packages\\torch\\nn\\functional.py:5193: UserWarning: Support for mismatched key_padding_mask and attn_mask is deprecated. Use same type for both instead.\n",
      "  warnings.warn(\n"
     ]
    },
    {
     "name": "stdout",
     "output_type": "stream",
     "text": [
      "Example 1 CORRECT:  <SOS> many grey white buildings and some green trees are located in a dense residential area . <EOS> \n",
      "\n",
      "\n",
      "Example 1 OUTPUT:  many buildings and some green trees are in a dense residential area . <EOS>\n",
      "Example 1 CORRECT:  <SOS> red buildings are on either side of the white church . <EOS> \n",
      "\n",
      "\n",
      "Example 1 OUTPUT:  many green trees are around a square with a pond . <EOS>\n",
      "\n",
      "\n",
      "[Epoch 15 / 20]\n"
     ]
    },
    {
     "name": "stderr",
     "output_type": "stream",
     "text": [
      "                                                   \r"
     ]
    },
    {
     "name": "stdout",
     "output_type": "stream",
     "text": [
      "Loss of the epoch is 0.7591765388170132\n"
     ]
    },
    {
     "name": "stderr",
     "output_type": "stream",
     "text": [
      "c:\\Users\\codes\\anaconda3\\envs\\ml\\Lib\\site-packages\\torch\\nn\\functional.py:5193: UserWarning: Support for mismatched key_padding_mask and attn_mask is deprecated. Use same type for both instead.\n",
      "  warnings.warn(\n"
     ]
    },
    {
     "name": "stdout",
     "output_type": "stream",
     "text": [
      "Example 1 CORRECT:  <SOS> some green trees are around a polygonal center building . <EOS> \n",
      "\n",
      "\n",
      "Example 1 OUTPUT:  many green trees are around a square with some green trees . <EOS>\n",
      "Example 1 CORRECT:  <SOS> the green hills are next to each other in an uninterrupted line . <EOS> \n",
      "\n",
      "\n",
      "Example 1 OUTPUT:  many green trees are in a forest . <EOS>\n",
      "\n",
      "\n",
      "[Epoch 16 / 20]\n"
     ]
    },
    {
     "name": "stderr",
     "output_type": "stream",
     "text": [
      "                                                   \r"
     ]
    },
    {
     "name": "stdout",
     "output_type": "stream",
     "text": [
      "Loss of the epoch is 0.7522077395789127\n"
     ]
    },
    {
     "name": "stderr",
     "output_type": "stream",
     "text": [
      "c:\\Users\\codes\\anaconda3\\envs\\ml\\Lib\\site-packages\\torch\\nn\\functional.py:5193: UserWarning: Support for mismatched key_padding_mask and attn_mask is deprecated. Use same type for both instead.\n",
      "  warnings.warn(\n"
     ]
    },
    {
     "name": "stdout",
     "output_type": "stream",
     "text": [
      "Example 1 CORRECT:  <SOS> a large white building is near a parking lot and a road with some green trees . <EOS> \n",
      "\n",
      "\n",
      "Example 1 OUTPUT:  many green trees are around a square with some green trees . <EOS>\n",
      "Example 1 CORRECT:  <SOS> a multilateral green pond is surrounded by many green trees . <EOS> \n",
      "\n",
      "\n",
      "Example 1 OUTPUT:  many green trees are around a square of a curved yellow river . <EOS>\n",
      "\n",
      "\n",
      "[Epoch 17 / 20]\n"
     ]
    },
    {
     "name": "stderr",
     "output_type": "stream",
     "text": [
      "                                                   \r"
     ]
    },
    {
     "name": "stdout",
     "output_type": "stream",
     "text": [
      "Loss of the epoch is 0.7447813768901735\n"
     ]
    },
    {
     "name": "stderr",
     "output_type": "stream",
     "text": [
      "c:\\Users\\codes\\anaconda3\\envs\\ml\\Lib\\site-packages\\torch\\nn\\functional.py:5193: UserWarning: Support for mismatched key_padding_mask and attn_mask is deprecated. Use same type for both instead.\n",
      "  warnings.warn(\n"
     ]
    },
    {
     "name": "stdout",
     "output_type": "stream",
     "text": [
      "Example 1 CORRECT:  <SOS> the stretch of turbid saddle shaped river is across the forest . <EOS> \n",
      "\n",
      "\n",
      "Example 1 OUTPUT:  many green trees are in a forest . <EOS>\n",
      "Example 1 CORRECT:  <SOS> the cars were parked neatly on the road . <EOS> \n",
      "\n",
      "\n",
      "Example 1 OUTPUT:  many green trees are around a square with a circle center . <EOS>\n",
      "\n",
      "\n",
      "[Epoch 18 / 20]\n"
     ]
    },
    {
     "name": "stderr",
     "output_type": "stream",
     "text": [
      "                                                   \r"
     ]
    },
    {
     "name": "stdout",
     "output_type": "stream",
     "text": [
      "Loss of the epoch is 0.7379815552342852\n"
     ]
    },
    {
     "name": "stderr",
     "output_type": "stream",
     "text": [
      "c:\\Users\\codes\\anaconda3\\envs\\ml\\Lib\\site-packages\\torch\\nn\\functional.py:5193: UserWarning: Support for mismatched key_padding_mask and attn_mask is deprecated. Use same type for both instead.\n",
      "  warnings.warn(\n"
     ]
    },
    {
     "name": "stdout",
     "output_type": "stream",
     "text": [
      "Example 1 CORRECT:  <SOS> many buildings and green trees are in a dense residential area . <EOS> \n",
      "\n",
      "\n",
      "Example 1 OUTPUT:  many green trees and some buildings are in a resort . <EOS>\n",
      "Example 1 CORRECT:  <SOS> it 's a big piece of naked dirt . <EOS> \n",
      "\n",
      "\n",
      "Example 1 OUTPUT:  the desert is very dry . <EOS>\n",
      "\n",
      "\n",
      "[Epoch 19 / 20]\n"
     ]
    },
    {
     "name": "stderr",
     "output_type": "stream",
     "text": [
      "                                                   \r"
     ]
    },
    {
     "name": "stdout",
     "output_type": "stream",
     "text": [
      "Loss of the epoch is 0.7317658195006829\n"
     ]
    },
    {
     "name": "stderr",
     "output_type": "stream",
     "text": [
      "c:\\Users\\codes\\anaconda3\\envs\\ml\\Lib\\site-packages\\torch\\nn\\functional.py:5193: UserWarning: Support for mismatched key_padding_mask and attn_mask is deprecated. Use same type for both instead.\n",
      "  warnings.warn(\n"
     ]
    },
    {
     "name": "stdout",
     "output_type": "stream",
     "text": [
      "Example 1 CORRECT:  <SOS> an island on a lake surrounded by many green trees are in a park . <EOS> \n",
      "\n",
      "\n",
      "Example 1 OUTPUT:  many green trees and some buildings are in a resort . <EOS>\n",
      "Example 1 CORRECT:  <SOS> the water in the sea is very rough . <EOS> \n",
      "\n",
      "\n",
      "Example 1 OUTPUT:  a large number of trees are planted around the lake . <EOS>\n",
      "\n",
      "\n"
     ]
    }
   ],
   "source": [
    "train()"
   ]
  },
  {
   "cell_type": "code",
   "execution_count": null,
   "metadata": {},
   "outputs": [],
   "source": []
  },
  {
   "cell_type": "markdown",
   "metadata": {},
   "source": []
  }
 ],
 "metadata": {
  "kernelspec": {
   "display_name": "ml",
   "language": "python",
   "name": "python3"
  },
  "language_info": {
   "codemirror_mode": {
    "name": "ipython",
    "version": 3
   },
   "file_extension": ".py",
   "mimetype": "text/x-python",
   "name": "python",
   "nbconvert_exporter": "python",
   "pygments_lexer": "ipython3",
   "version": "3.12.5"
  }
 },
 "nbformat": 4,
 "nbformat_minor": 2
}
