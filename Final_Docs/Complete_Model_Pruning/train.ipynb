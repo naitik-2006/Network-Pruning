{
 "cells": [
  {
   "cell_type": "markdown",
   "metadata": {},
   "source": [
    "## Training Our Final Model"
   ]
  },
  {
   "cell_type": "code",
   "execution_count": 10,
   "metadata": {},
   "outputs": [],
   "source": [
    "import torch\n",
    "import torch.optim as optim\n",
    "from get_loader import get_loader\n",
    "from torchvision import transforms\n",
    "import New_Pruned_Model\n",
    "import torch.nn as nn\n",
    "from tqdm import tqdm\n",
    "from torch.utils.tensorboard import SummaryWriter\n",
    "from utils import print_examples\n",
    "from New_Pruned_Model import EncoderCNN\n",
    "from Model import EncodertoDecoder\n",
    "\n",
    "mse_loss = nn.MSELoss()\n",
    "def match_hidden_states(sub_network_hidden_states, decoder_hidden_states , num_selected_layers = 3):\n",
    "    # Here we have to select the layers coming with decoder network\n",
    "    num_total_layers = len(decoder_hidden_states)\n",
    "    selected_layers_indices = [num_selected_layers - 1]\n",
    "    for i in range(num_selected_layers - 1):\n",
    "        selected_layers_indices.append(int((num_total_layers - 1) * (i + 1)/num_selected_layers))\n",
    "    print(selected_decoder_hidden_states)\n",
    "    selected_decoder_hidden_states = [decoder_hidden_states[idx] for idx in selected_layers_indices]\n",
    "    loss = 0 \n",
    "    for sub_state, dec_state in zip(sub_network_hidden_states, selected_decoder_hidden_states):\n",
    "        loss += mse_loss(sub_state, dec_state)\n",
    "    return loss\n",
    "\n",
    "def train():\n",
    "    transform = transforms.Compose([transforms.Resize((350,350)),transforms.RandomCrop((256,256)),\n",
    "                                transforms.ToTensor(), transforms.Normalize((0.5, 0.5, 0.5), (0.5, 0.5, 0.5))])\n",
    "\n",
    "    images_path , caption_path = r\"D:\\ML\\Korea\\Jishu\\Jishu\\rsicd\\images\" , r\"D:\\ML\\Korea\\Jishu\\Jishu\\rsicd\\captions.csv\"\n",
    "    pruned_resnet_model_path = r\"D:\\ML\\Korea\\Jishu\\Jishu\\Cnn_Pruning\\Pruned_Resnet\\fine_tuned_model.pth\"\n",
    "    \n",
    "    BATCH_SIZE = 32\n",
    "    data_loader , dataset = get_loader(images_path,caption_path ,transform,batch_size = BATCH_SIZE,num_workers=4)\n",
    "    device = torch.device(\"cuda\" if torch.cuda.is_available() else \"cpu\")\n",
    "    num_epochs = 20\n",
    "    learning_rate = 3e-4\n",
    "    trg_vocab_size = len(dataset.vocab)\n",
    "    embedding_size = 512\n",
    "    num_heads = 8\n",
    "    num_decoder_layers = 2\n",
    "    dropout = 0.10\n",
    "    pad_idx=dataset.vocab.stoi[\"<PAD>\"]\n",
    "    save_model = True\n",
    "    writer =SummaryWriter(\"runs/loss_plot\")\n",
    "    step = 0\n",
    "    encoder_regularization_penalty = 0.01\n",
    "    decoder_regularizartion_penalty = 0.01 \n",
    "    \n",
    "    model = New_Pruned_Model.EncodertoDecoder(embeding_size=embedding_size, trg_vocab_size=trg_vocab_size, num_heads=num_heads, num_decoder_layers=4, dropout=dropout).to(device)\n",
    "    model.load_state_dict(torch.load(r'D:\\ML\\Korea\\Jishu\\Jishu\\Final_Docs\\Original_Image_Captioning_Model\\model.pth', map_location=device))\n",
    "    model = model.to(device)\n",
    "    \n",
    "    # Now we define the pruned model\n",
    "    pruned_model = New_Pruned_Model.PrunedEncodertoDecoder(embeding_size=embedding_size,\n",
    "                            trg_vocab_size=trg_vocab_size, num_heads=num_heads,\n",
    "                            num_decoder_layers=num_decoder_layers,\n",
    "                            dropout=dropout , pruned_resnet_model_path = pruned_resnet_model_path).to(device)\n",
    "    \n",
    "    \n",
    "    optimizer = optim.Adam(pruned_model.parameters(),lr = learning_rate)\n",
    "    criterion2 = nn.CrossEntropyLoss(ignore_index=pad_idx)\n",
    "    \n",
    "    l = []\n",
    "    for epoch in range(num_epochs):\n",
    "        print(f\"[Epoch {epoch} / {num_epochs}]\")\n",
    "        model.eval()\n",
    "        pruned_model.train()\n",
    "        Total_loss = 0.0\n",
    "        for idx, (images, captions) in tqdm(enumerate(data_loader), total=len(data_loader), leave=False):\n",
    "            images = images.to(device)\n",
    "            captions = captions.to(device)\n",
    "            with torch.no_grad():\n",
    "                output  = model(images, captions[:-1])\n",
    "                \n",
    "            print(\"Now\")\n",
    "            pruned_model_outputs , hidden_pruned_decoder_outputs = pruned_model(images , captions[:-1])\n",
    "            pruned_model_outputs = pruned_model_outputs.reshape(-1 , pruned_model_outputs.shape[2])\n",
    "            target = captions[1:].reshape(-1).to(device)\n",
    "            \n",
    "            optimizer.zero_grad()\n",
    "            loss_match = criterion2(pruned_model_outputs , target)\n",
    "            \n",
    "            # Compute the L2 Regularization loss of the encoder weights\n",
    "            l2_reg = pruned_model.encoder.compute_penalty(encoder_regularization_penalty)\n",
    "            mse_loss = match_hidden_states(hidden_pruned_decoder_outputs,hidden_original_decoder_outputs)\n",
    "            dec_loss = mse_loss * decoder_regularizartion_penalty\n",
    "            \n",
    "            # Now calculate the total loss\n",
    "            total_loss = loss_match + l2_reg + dec_loss\n",
    "            lossofepoch = total_loss.item()\n",
    "            Total_loss += lossofepoch\n",
    "            total_loss.backward()\n",
    "            \n",
    "            torch.nn.utils.clip_grad_norm_(pruned_model.parameters(),max_norm=1)\n",
    "            optimizer.step()\n",
    "            writer.add_scalar(\"Training Loss\",Total_loss,global_step=step)\n",
    "            step+=1\n",
    "            \n",
    "        LOSS = Total_loss / len(data_loader)\n",
    "        l.append(LOSS) \n",
    "        print(\"Loss of the epoch is\", Total_loss / len(data_loader))\n",
    "        # torch.save(pruned_model , 'model_final_5_2_T.pth')\n",
    "            \n",
    "\n",
    "        pruned_model.eval()\n",
    "        print_examples(pruned_model, device, dataset)"
   ]
  },
  {
   "cell_type": "code",
   "execution_count": 3,
   "metadata": {},
   "outputs": [
    {
     "name": "stderr",
     "output_type": "stream",
     "text": [
      "c:\\Users\\codes\\anaconda3\\envs\\ml\\Lib\\site-packages\\torchvision\\models\\_utils.py:208: UserWarning: The parameter 'pretrained' is deprecated since 0.13 and may be removed in the future, please use 'weights' instead.\n",
      "  warnings.warn(\n",
      "c:\\Users\\codes\\anaconda3\\envs\\ml\\Lib\\site-packages\\torchvision\\models\\_utils.py:223: UserWarning: Arguments other than a weight enum or `None` for 'weights' are deprecated since 0.13 and may be removed in the future. The current behavior is equivalent to passing `weights=ResNet101_Weights.IMAGENET1K_V1`. You can also use `weights=ResNet101_Weights.DEFAULT` to get the most up-to-date weights.\n",
      "  warnings.warn(msg)\n",
      "c:\\Users\\codes\\anaconda3\\envs\\ml\\Lib\\site-packages\\torch\\nn\\modules\\transformer.py:307: UserWarning: enable_nested_tensor is True, but self.use_nested_tensor is False because encoder_layer.self_attn.batch_first was not True(use batch_first for better inference performance)\n",
      "  warnings.warn(f\"enable_nested_tensor is True, but self.use_nested_tensor is False because {why_not_sparsity_fast_path}\")\n",
      "C:\\Users\\codes\\AppData\\Local\\Temp\\ipykernel_21912\\3472701577.py:51: FutureWarning: You are using `torch.load` with `weights_only=False` (the current default value), which uses the default pickle module implicitly. It is possible to construct malicious pickle data which will execute arbitrary code during unpickling (See https://github.com/pytorch/pytorch/blob/main/SECURITY.md#untrusted-models for more details). In a future release, the default value for `weights_only` will be flipped to `True`. This limits the functions that could be executed during unpickling. Arbitrary objects will no longer be allowed to be loaded via this mode unless they are explicitly allowlisted by the user via `torch.serialization.add_safe_globals`. We recommend you start setting `weights_only=True` for any use case where you don't have full control of the loaded file. Please open an issue on GitHub for any issues related to this experimental feature.\n",
      "  model.load_state_dict(torch.load(r'D:\\ML\\Korea\\Jishu\\Jishu\\Final_Docs\\Original_Image_Captioning_Model\\model.pth', map_location=device))\n",
      "d:\\ML\\Korea\\Jishu\\Jishu\\Final_Docs\\Complete_Model_Pruning\\New_Pruned_Model.py:229: FutureWarning: You are using `torch.load` with `weights_only=False` (the current default value), which uses the default pickle module implicitly. It is possible to construct malicious pickle data which will execute arbitrary code during unpickling (See https://github.com/pytorch/pytorch/blob/main/SECURITY.md#untrusted-models for more details). In a future release, the default value for `weights_only` will be flipped to `True`. This limits the functions that could be executed during unpickling. Arbitrary objects will no longer be allowed to be loaded via this mode unless they are explicitly allowlisted by the user via `torch.serialization.add_safe_globals`. We recommend you start setting `weights_only=True` for any use case where you don't have full control of the loaded file. Please open an issue on GitHub for any issues related to this experimental feature.\n",
      "  self.pruned_image_encoder = torch.load(pruned_resnet_model_path)\n"
     ]
    },
    {
     "name": "stdout",
     "output_type": "stream",
     "text": [
      "[Epoch 0 / 20]\n"
     ]
    },
    {
     "name": "stderr",
     "output_type": "stream",
     "text": [
      "  0%|          | 0/1278 [00:00<?, ?it/s]c:\\Users\\codes\\anaconda3\\envs\\ml\\Lib\\site-packages\\torch\\nn\\functional.py:5560: UserWarning: 1Torch was not compiled with flash attention. (Triggered internally at C:\\cb\\pytorch_1000000000000\\work\\aten\\src\\ATen\\native\\transformers\\cuda\\sdp_utils.cpp:555.)\n",
      "  attn_output = scaled_dot_product_attention(q, k, v, attn_mask, dropout_p, is_causal)\n",
      "c:\\Users\\codes\\anaconda3\\envs\\ml\\Lib\\site-packages\\torch\\nn\\functional.py:5193: UserWarning: Support for mismatched key_padding_mask and attn_mask is deprecated. Use same type for both instead.\n",
      "  warnings.warn(\n",
      "                                                   \r"
     ]
    },
    {
     "name": "stdout",
     "output_type": "stream",
     "text": [
      "Loss of the epoch is 31.567309242272415\n"
     ]
    },
    {
     "name": "stderr",
     "output_type": "stream",
     "text": [
      "c:\\Users\\codes\\anaconda3\\envs\\ml\\Lib\\site-packages\\torch\\nn\\functional.py:5193: UserWarning: Support for mismatched key_padding_mask and attn_mask is deprecated. Use same type for both instead.\n",
      "  warnings.warn(\n"
     ]
    },
    {
     "name": "stdout",
     "output_type": "stream",
     "text": [
      "Example 1 CORRECT:  <SOS> the mountain range is vast and rugged . <EOS> \n",
      "\n",
      "\n",
      "Example 1 OUTPUT:  many green trees and some buildings are in two sides of a curved river . <EOS>\n",
      "Example 1 CORRECT:  <SOS> four tennis courts are close to a large stadium . <EOS> \n",
      "\n",
      "\n",
      "Example 1 OUTPUT:  a bridge is over a river with many green trees in two sides of it . <EOS>\n",
      "\n",
      "\n",
      "[Epoch 1 / 20]\n"
     ]
    },
    {
     "name": "stderr",
     "output_type": "stream",
     "text": [
      "                                                   \r"
     ]
    },
    {
     "name": "stdout",
     "output_type": "stream",
     "text": [
      "Loss of the epoch is 10.97519461612373\n"
     ]
    },
    {
     "name": "stderr",
     "output_type": "stream",
     "text": [
      "c:\\Users\\codes\\anaconda3\\envs\\ml\\Lib\\site-packages\\torch\\nn\\functional.py:5193: UserWarning: Support for mismatched key_padding_mask and attn_mask is deprecated. Use same type for both instead.\n",
      "  warnings.warn(\n"
     ]
    },
    {
     "name": "stdout",
     "output_type": "stream",
     "text": [
      "Example 1 CORRECT:  <SOS> many green buildings and trees are located in an average residential area . <EOS> \n",
      "\n",
      "\n",
      "Example 1 OUTPUT:  many buildings and green trees are in a school . <EOS>\n",
      "Example 1 CORRECT:  <SOS> the round area is a large baseball field . <EOS> \n",
      "\n",
      "\n",
      "Example 1 OUTPUT:  a baseball field is surrounded by some green trees . <EOS>\n",
      "\n",
      "\n",
      "[Epoch 2 / 20]\n"
     ]
    },
    {
     "name": "stderr",
     "output_type": "stream",
     "text": [
      "                                                   \r"
     ]
    },
    {
     "name": "stdout",
     "output_type": "stream",
     "text": [
      "Loss of the epoch is 3.537011243554535\n"
     ]
    },
    {
     "name": "stderr",
     "output_type": "stream",
     "text": [
      "c:\\Users\\codes\\anaconda3\\envs\\ml\\Lib\\site-packages\\torch\\nn\\functional.py:5193: UserWarning: Support for mismatched key_padding_mask and attn_mask is deprecated. Use same type for both instead.\n",
      "  warnings.warn(\n"
     ]
    },
    {
     "name": "stdout",
     "output_type": "stream",
     "text": [
      "Example 1 CORRECT:  <SOS> some green trees and several buildings are around a baseball pitch . <EOS> \n",
      "\n",
      "\n",
      "Example 1 OUTPUT:  a baseball field is close to several green trees and a road . <EOS>\n",
      "Example 1 CORRECT:  <SOS> the ocean is vast . <EOS> \n",
      "\n",
      "\n",
      "Example 1 OUTPUT:  a piece of ocean is near a yellow beach and some green trees . <EOS>\n",
      "\n",
      "\n",
      "[Epoch 3 / 20]\n"
     ]
    },
    {
     "name": "stderr",
     "output_type": "stream",
     "text": [
      "                                                   \r"
     ]
    },
    {
     "name": "stdout",
     "output_type": "stream",
     "text": [
      "Loss of the epoch is 1.6197341238388994\n"
     ]
    },
    {
     "name": "stderr",
     "output_type": "stream",
     "text": [
      "c:\\Users\\codes\\anaconda3\\envs\\ml\\Lib\\site-packages\\torch\\nn\\functional.py:5193: UserWarning: Support for mismatched key_padding_mask and attn_mask is deprecated. Use same type for both instead.\n",
      "  warnings.warn(\n"
     ]
    },
    {
     "name": "stdout",
     "output_type": "stream",
     "text": [
      "Example 1 CORRECT:  <SOS> a bridge with two towers is above a bright yellow river with ships . <EOS> \n",
      "\n",
      "\n",
      "Example 1 OUTPUT:  a road is near a large piece of bareland . <EOS>\n",
      "Example 1 CORRECT:  <SOS> a square is surrounded by many green trees near a road . <EOS> \n",
      "\n",
      "\n",
      "Example 1 OUTPUT:  many green trees are around a square square . <EOS>\n",
      "\n",
      "\n",
      "[Epoch 4 / 20]\n"
     ]
    },
    {
     "name": "stderr",
     "output_type": "stream",
     "text": [
      "                                                   \r"
     ]
    },
    {
     "name": "stdout",
     "output_type": "stream",
     "text": [
      "Loss of the epoch is 1.3430183215973337\n"
     ]
    },
    {
     "name": "stderr",
     "output_type": "stream",
     "text": [
      "c:\\Users\\codes\\anaconda3\\envs\\ml\\Lib\\site-packages\\torch\\nn\\functional.py:5193: UserWarning: Support for mismatched key_padding_mask and attn_mask is deprecated. Use same type for both instead.\n",
      "  warnings.warn(\n"
     ]
    },
    {
     "name": "stdout",
     "output_type": "stream",
     "text": [
      "Example 1 CORRECT:  <SOS> many green trees and buildings are located on two sides of a railway station . <EOS> \n",
      "\n",
      "\n",
      "Example 1 OUTPUT:  many buildings and some green trees are near a viaduct . <EOS>\n",
      "Example 1 CORRECT:  <SOS> oasis are in the middle of the field , the cars drive on the road . <EOS> \n",
      "\n",
      "\n",
      "Example 1 OUTPUT:  many green trees are near a viaduct with some cars . <EOS>\n",
      "\n",
      "\n",
      "[Epoch 5 / 20]\n"
     ]
    },
    {
     "name": "stderr",
     "output_type": "stream",
     "text": [
      "                                                   \r"
     ]
    },
    {
     "name": "stdout",
     "output_type": "stream",
     "text": [
      "Loss of the epoch is 1.2731657699799874\n"
     ]
    },
    {
     "name": "stderr",
     "output_type": "stream",
     "text": [
      "c:\\Users\\codes\\anaconda3\\envs\\ml\\Lib\\site-packages\\torch\\nn\\functional.py:5193: UserWarning: Support for mismatched key_padding_mask and attn_mask is deprecated. Use same type for both instead.\n",
      "  warnings.warn(\n"
     ]
    },
    {
     "name": "stdout",
     "output_type": "stream",
     "text": [
      "Example 1 CORRECT:  <SOS> a river is among many pieces of mountain caki . <EOS> \n",
      "\n",
      "\n",
      "Example 1 OUTPUT:  it 's a piece of irregular khaki mountain . <EOS>\n",
      "Example 1 CORRECT:  <SOS> the top of the mountain is naked while other parts are green . <EOS> \n",
      "\n",
      "\n",
      "Example 1 OUTPUT:  the mountain is yellow and green . <EOS>\n",
      "\n",
      "\n",
      "[Epoch 6 / 20]\n"
     ]
    },
    {
     "name": "stderr",
     "output_type": "stream",
     "text": [
      "                                                   \r"
     ]
    },
    {
     "name": "stdout",
     "output_type": "stream",
     "text": [
      "Loss of the epoch is 1.227709257966476\n"
     ]
    },
    {
     "name": "stderr",
     "output_type": "stream",
     "text": [
      "c:\\Users\\codes\\anaconda3\\envs\\ml\\Lib\\site-packages\\torch\\nn\\functional.py:5193: UserWarning: Support for mismatched key_padding_mask and attn_mask is deprecated. Use same type for both instead.\n",
      "  warnings.warn(\n"
     ]
    },
    {
     "name": "stdout",
     "output_type": "stream",
     "text": [
      "Example 1 CORRECT:  <SOS> several green buildings and trees are located on two sides of a train station . <EOS> \n",
      "\n",
      "\n",
      "Example 1 OUTPUT:  many buildings are located on both sides of a railway station . <EOS>\n",
      "Example 1 CORRECT:  <SOS> a playground with a basketball court next door is surrounded by a few buildings and plants . <EOS> \n",
      "\n",
      "\n",
      "Example 1 OUTPUT:  a playground with a football field in it is surrounded by many buildings . <EOS>\n",
      "\n",
      "\n",
      "[Epoch 7 / 20]\n"
     ]
    },
    {
     "name": "stderr",
     "output_type": "stream",
     "text": [
      "                                                   \r"
     ]
    },
    {
     "name": "stdout",
     "output_type": "stream",
     "text": [
      "Loss of the epoch is 1.187538374664265\n"
     ]
    },
    {
     "name": "stderr",
     "output_type": "stream",
     "text": [
      "c:\\Users\\codes\\anaconda3\\envs\\ml\\Lib\\site-packages\\torch\\nn\\functional.py:5193: UserWarning: Support for mismatched key_padding_mask and attn_mask is deprecated. Use same type for both instead.\n",
      "  warnings.warn(\n"
     ]
    },
    {
     "name": "stdout",
     "output_type": "stream",
     "text": [
      "Example 1 CORRECT:  <SOS> the huge lake lies in the middle of the woods . <EOS> \n",
      "\n",
      "\n",
      "Example 1 OUTPUT:  many green trees are around an irregular pond . <EOS>\n",
      "Example 1 CORRECT:  <SOS> it is a piece of yellow desert . <EOS> \n",
      "\n",
      "\n",
      "Example 1 OUTPUT:  it is a piece of yellow desert . <EOS>\n",
      "\n",
      "\n",
      "[Epoch 8 / 20]\n"
     ]
    },
    {
     "name": "stderr",
     "output_type": "stream",
     "text": [
      "                                                   \r"
     ]
    },
    {
     "name": "stdout",
     "output_type": "stream",
     "text": [
      "Loss of the epoch is 1.1446820156581712\n"
     ]
    },
    {
     "name": "stderr",
     "output_type": "stream",
     "text": [
      "c:\\Users\\codes\\anaconda3\\envs\\ml\\Lib\\site-packages\\torch\\nn\\functional.py:5193: UserWarning: Support for mismatched key_padding_mask and attn_mask is deprecated. Use same type for both instead.\n",
      "  warnings.warn(\n"
     ]
    },
    {
     "name": "stdout",
     "output_type": "stream",
     "text": [
      "Example 1 CORRECT:  <SOS> on one side of the river was a bare land . <EOS> \n",
      "\n",
      "\n",
      "Example 1 OUTPUT:  many green trees are on two sides of a curved river . <EOS>\n",
      "Example 1 CORRECT:  <SOS> a playground is next to some green trees and a white building . <EOS> \n",
      "\n",
      "\n",
      "Example 1 OUTPUT:  a playground is surrounded by many green trees and many buildings . <EOS>\n",
      "\n",
      "\n",
      "[Epoch 9 / 20]\n"
     ]
    },
    {
     "name": "stderr",
     "output_type": "stream",
     "text": [
      "                                                      \r"
     ]
    },
    {
     "name": "stdout",
     "output_type": "stream",
     "text": [
      "Loss of the epoch is 1.1086940694023186\n"
     ]
    },
    {
     "name": "stderr",
     "output_type": "stream",
     "text": [
      "c:\\Users\\codes\\anaconda3\\envs\\ml\\Lib\\site-packages\\torch\\nn\\functional.py:5193: UserWarning: Support for mismatched key_padding_mask and attn_mask is deprecated. Use same type for both instead.\n",
      "  warnings.warn(\n"
     ]
    },
    {
     "name": "stdout",
     "output_type": "stream",
     "text": [
      "Example 1 CORRECT:  <SOS> many buildings are in an industrial area . <EOS> \n",
      "\n",
      "\n",
      "Example 1 OUTPUT:  many buildings and some green trees are in an industrial area . <EOS>\n",
      "Example 1 CORRECT:  <SOS> some pieces of farmlands are together . <EOS> \n",
      "\n",
      "\n",
      "Example 1 OUTPUT:  a large number of trees were planted around the lake . <EOS>\n",
      "\n",
      "\n",
      "[Epoch 10 / 20]\n"
     ]
    },
    {
     "name": "stderr",
     "output_type": "stream",
     "text": [
      "                                                   \r"
     ]
    },
    {
     "name": "stdout",
     "output_type": "stream",
     "text": [
      "Loss of the epoch is 1.0733957379729908\n"
     ]
    },
    {
     "name": "stderr",
     "output_type": "stream",
     "text": [
      "c:\\Users\\codes\\anaconda3\\envs\\ml\\Lib\\site-packages\\torch\\nn\\functional.py:5193: UserWarning: Support for mismatched key_padding_mask and attn_mask is deprecated. Use same type for both instead.\n",
      "  warnings.warn(\n"
     ]
    },
    {
     "name": "stdout",
     "output_type": "stream",
     "text": [
      "Example 1 CORRECT:  <SOS> many green buildings and trees are ordered in a dense residential area . <EOS> \n",
      "\n",
      "\n",
      "Example 1 OUTPUT:  many green buildings and trees are located in a dense residential area . <EOS>\n",
      "Example 1 CORRECT:  <SOS> many cars are parked in a parking lot near a large building with different green trees . <EOS> \n",
      "\n",
      "\n",
      "Example 1 OUTPUT:  many cars are parked in a parking lot near a road . <EOS>\n",
      "\n",
      "\n",
      "[Epoch 11 / 20]\n"
     ]
    },
    {
     "name": "stderr",
     "output_type": "stream",
     "text": [
      "                                                   \r"
     ]
    },
    {
     "name": "stdout",
     "output_type": "stream",
     "text": [
      "Loss of the epoch is 1.0447862249025157\n"
     ]
    },
    {
     "name": "stderr",
     "output_type": "stream",
     "text": [
      "c:\\Users\\codes\\anaconda3\\envs\\ml\\Lib\\site-packages\\torch\\nn\\functional.py:5193: UserWarning: Support for mismatched key_padding_mask and attn_mask is deprecated. Use same type for both instead.\n",
      "  warnings.warn(\n"
     ]
    },
    {
     "name": "stdout",
     "output_type": "stream",
     "text": [
      "Example 1 CORRECT:  <SOS> four planes are parked in an airport near several buildings with parking lots . <EOS> \n",
      "\n",
      "\n",
      "Example 1 OUTPUT:  many planes are parked near a terminal in an airport . <EOS>\n",
      "Example 1 CORRECT:  <SOS> many buildings and some green trees are around a playground . <EOS> \n",
      "\n",
      "\n",
      "Example 1 OUTPUT:  a playground is semi - surrounded by some green trees and many buildings . <EOS>\n",
      "\n",
      "\n",
      "[Epoch 12 / 20]\n"
     ]
    },
    {
     "name": "stderr",
     "output_type": "stream",
     "text": [
      "                                                   \r"
     ]
    },
    {
     "name": "stdout",
     "output_type": "stream",
     "text": [
      "Loss of the epoch is 1.0173407623279076\n"
     ]
    },
    {
     "name": "stderr",
     "output_type": "stream",
     "text": [
      "c:\\Users\\codes\\anaconda3\\envs\\ml\\Lib\\site-packages\\torch\\nn\\functional.py:5193: UserWarning: Support for mismatched key_padding_mask and attn_mask is deprecated. Use same type for both instead.\n",
      "  warnings.warn(\n"
     ]
    },
    {
     "name": "stdout",
     "output_type": "stream",
     "text": [
      "Example 1 CORRECT:  <SOS> the colors of the two ponds are both bright blue . <EOS> \n",
      "\n",
      "\n",
      "Example 1 OUTPUT:  a pond is near a river with some green trees . <EOS>\n",
      "Example 1 CORRECT:  <SOS> a piece of sand in the desert is like fish scale . <EOS> \n",
      "\n",
      "\n",
      "Example 1 OUTPUT:  it 's a big piece of yellow desert . <EOS>\n",
      "\n",
      "\n",
      "[Epoch 13 / 20]\n"
     ]
    },
    {
     "name": "stderr",
     "output_type": "stream",
     "text": [
      "                                                   \r"
     ]
    },
    {
     "name": "stdout",
     "output_type": "stream",
     "text": [
      "Loss of the epoch is 0.9917280465970764\n"
     ]
    },
    {
     "name": "stderr",
     "output_type": "stream",
     "text": [
      "c:\\Users\\codes\\anaconda3\\envs\\ml\\Lib\\site-packages\\torch\\nn\\functional.py:5193: UserWarning: Support for mismatched key_padding_mask and attn_mask is deprecated. Use same type for both instead.\n",
      "  warnings.warn(\n"
     ]
    },
    {
     "name": "stdout",
     "output_type": "stream",
     "text": [
      "Example 1 CORRECT:  <SOS> a football field is close to several green trees and buildings . <EOS> \n",
      "\n",
      "\n",
      "Example 1 OUTPUT:  a playground is surrounded by some green trees and buildings . <EOS>\n",
      "Example 1 CORRECT:  <SOS> some red buildings are near a church next to a road with many people . <EOS> \n",
      "\n",
      "\n",
      "Example 1 OUTPUT:  a church is near a road with many cars running . <EOS>\n",
      "\n",
      "\n",
      "[Epoch 14 / 20]\n"
     ]
    },
    {
     "name": "stderr",
     "output_type": "stream",
     "text": [
      "                                                   \r"
     ]
    },
    {
     "name": "stdout",
     "output_type": "stream",
     "text": [
      "Loss of the epoch is 0.9744462008487451\n"
     ]
    },
    {
     "name": "stderr",
     "output_type": "stream",
     "text": [
      "c:\\Users\\codes\\anaconda3\\envs\\ml\\Lib\\site-packages\\torch\\nn\\functional.py:5193: UserWarning: Support for mismatched key_padding_mask and attn_mask is deprecated. Use same type for both instead.\n",
      "  warnings.warn(\n"
     ]
    },
    {
     "name": "stdout",
     "output_type": "stream",
     "text": [
      "Example 1 CORRECT:  <SOS> the viaduct here is majestic and complicated . <EOS> \n",
      "\n",
      "\n",
      "Example 1 OUTPUT:  many green trees are near a viaduct . <EOS>\n",
      "Example 1 CORRECT:  <SOS> the blue <UNK> <UNK> are next to the neighborhood . <EOS> \n",
      "\n",
      "\n",
      "Example 1 OUTPUT:  many green trees and some buildings are in a school . <EOS>\n",
      "\n",
      "\n",
      "[Epoch 15 / 20]\n"
     ]
    },
    {
     "name": "stderr",
     "output_type": "stream",
     "text": [
      "                                                   \r"
     ]
    },
    {
     "name": "stdout",
     "output_type": "stream",
     "text": [
      "Loss of the epoch is 0.9482870778194242\n"
     ]
    },
    {
     "name": "stderr",
     "output_type": "stream",
     "text": [
      "c:\\Users\\codes\\anaconda3\\envs\\ml\\Lib\\site-packages\\torch\\nn\\functional.py:5193: UserWarning: Support for mismatched key_padding_mask and attn_mask is deprecated. Use same type for both instead.\n",
      "  warnings.warn(\n"
     ]
    },
    {
     "name": "stdout",
     "output_type": "stream",
     "text": [
      "Example 1 CORRECT:  <SOS> some boats are in a port near a large piece of green lawn . <EOS> \n",
      "\n",
      "\n",
      "Example 1 OUTPUT:  some boats are in a port near green plants and many buildings . <EOS>\n",
      "Example 1 CORRECT:  <SOS> many green trees and a small pond are in a park near a road . <EOS> \n",
      "\n",
      "\n",
      "Example 1 OUTPUT:  many green trees and a pond are in a park near a road . <EOS>\n",
      "\n",
      "\n",
      "[Epoch 16 / 20]\n"
     ]
    },
    {
     "name": "stderr",
     "output_type": "stream",
     "text": [
      "                                                   \r"
     ]
    },
    {
     "name": "stdout",
     "output_type": "stream",
     "text": [
      "Loss of the epoch is 0.9289245242150923\n"
     ]
    },
    {
     "name": "stderr",
     "output_type": "stream",
     "text": [
      "c:\\Users\\codes\\anaconda3\\envs\\ml\\Lib\\site-packages\\torch\\nn\\functional.py:5193: UserWarning: Support for mismatched key_padding_mask and attn_mask is deprecated. Use same type for both instead.\n",
      "  warnings.warn(\n"
     ]
    },
    {
     "name": "stdout",
     "output_type": "stream",
     "text": [
      "Example 1 CORRECT:  <SOS> the light green trees are on the side of the road . <EOS> \n",
      "\n",
      "\n",
      "Example 1 OUTPUT:  many cars are parked in a parking lot near several buildings . <EOS>\n",
      "Example 1 CORRECT:  <SOS> here lies an esthetic square with large meadows surrounded by roads . <EOS> \n",
      "\n",
      "\n",
      "Example 1 OUTPUT:  a square and some green trees are around a circle square . <EOS>\n",
      "\n",
      "\n",
      "[Epoch 17 / 20]\n"
     ]
    },
    {
     "name": "stderr",
     "output_type": "stream",
     "text": [
      "                                                   \r"
     ]
    },
    {
     "name": "stdout",
     "output_type": "stream",
     "text": [
      "Loss of the epoch is 0.9087784592534455\n"
     ]
    },
    {
     "name": "stderr",
     "output_type": "stream",
     "text": [
      "c:\\Users\\codes\\anaconda3\\envs\\ml\\Lib\\site-packages\\torch\\nn\\functional.py:5193: UserWarning: Support for mismatched key_padding_mask and attn_mask is deprecated. Use same type for both instead.\n",
      "  warnings.warn(\n"
     ]
    },
    {
     "name": "stdout",
     "output_type": "stream",
     "text": [
      "Example 1 CORRECT:  <SOS> it 's a big piece of mountain . <EOS> \n",
      "\n",
      "\n",
      "Example 1 OUTPUT:  it is a piece of yellow mountains . <EOS>\n",
      "Example 1 CORRECT:  <SOS> many green trees are in two sides of a curved river . <EOS> \n",
      "\n",
      "\n",
      "Example 1 OUTPUT:  many green trees are found on two sides of a curved river . <EOS>\n",
      "\n",
      "\n",
      "[Epoch 18 / 20]\n"
     ]
    },
    {
     "name": "stderr",
     "output_type": "stream",
     "text": [
      "                                                   \r"
     ]
    },
    {
     "name": "stdout",
     "output_type": "stream",
     "text": [
      "Loss of the epoch is 0.8935033209353732\n"
     ]
    },
    {
     "name": "stderr",
     "output_type": "stream",
     "text": [
      "c:\\Users\\codes\\anaconda3\\envs\\ml\\Lib\\site-packages\\torch\\nn\\functional.py:5193: UserWarning: Support for mismatched key_padding_mask and attn_mask is deprecated. Use same type for both instead.\n",
      "  warnings.warn(\n"
     ]
    },
    {
     "name": "stdout",
     "output_type": "stream",
     "text": [
      "Example 1 CORRECT:  <SOS> many sands form a piece of desert . <EOS> \n",
      "\n",
      "\n",
      "Example 1 OUTPUT:  it 's a big piece of yellow desert . <EOS>\n",
      "Example 1 CORRECT:  <SOS> on one side of the river are rows of blue roofed houses . <EOS> \n",
      "\n",
      "\n",
      "Example 1 OUTPUT:  many green trees and some buildings are in a park with a pond . <EOS>\n",
      "\n",
      "\n",
      "[Epoch 19 / 20]\n"
     ]
    },
    {
     "name": "stderr",
     "output_type": "stream",
     "text": [
      "                                                   \r"
     ]
    },
    {
     "name": "stdout",
     "output_type": "stream",
     "text": [
      "Loss of the epoch is 0.8830576661233798\n"
     ]
    },
    {
     "name": "stderr",
     "output_type": "stream",
     "text": [
      "c:\\Users\\codes\\anaconda3\\envs\\ml\\Lib\\site-packages\\torch\\nn\\functional.py:5193: UserWarning: Support for mismatched key_padding_mask and attn_mask is deprecated. Use same type for both instead.\n",
      "  warnings.warn(\n"
     ]
    },
    {
     "name": "stdout",
     "output_type": "stream",
     "text": [
      "Example 1 CORRECT:  <SOS> the railway station . <EOS> \n",
      "\n",
      "\n",
      "Example 1 OUTPUT:  many buildings and some green trees are located on both sides of a train station . <EOS>\n",
      "Example 1 CORRECT:  <SOS> several large buildings and some green trees are located in a commercial area . <EOS> \n",
      "\n",
      "\n",
      "Example 1 OUTPUT:  many buildings and some green trees are in a commercial area . <EOS>\n",
      "\n",
      "\n"
     ]
    }
   ],
   "source": [
    "train()"
   ]
  },
  {
   "cell_type": "code",
   "execution_count": 2,
   "metadata": {},
   "outputs": [
    {
     "data": {
      "text/plain": [
       "0.88"
      ]
     },
     "execution_count": 2,
     "metadata": {},
     "output_type": "execute_result"
    }
   ],
   "source": [
    "0.88"
   ]
  },
  {
   "cell_type": "code",
   "execution_count": null,
   "metadata": {},
   "outputs": [],
   "source": []
  }
 ],
 "metadata": {
  "kernelspec": {
   "display_name": "ml",
   "language": "python",
   "name": "python3"
  },
  "language_info": {
   "codemirror_mode": {
    "name": "ipython",
    "version": 3
   },
   "file_extension": ".py",
   "mimetype": "text/x-python",
   "name": "python",
   "nbconvert_exporter": "python",
   "pygments_lexer": "ipython3",
   "version": "3.12.5"
  }
 },
 "nbformat": 4,
 "nbformat_minor": 2
}
