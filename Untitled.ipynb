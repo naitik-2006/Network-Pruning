{
 "cells": [
  {
   "cell_type": "code",
   "execution_count": null,
   "id": "cb530d83",
   "metadata": {},
   "outputs": [],
   "source": [
    "import pandas as pd\n",
    "import ast\n",
    "\n",
    "# Load the CSV file\n",
    "input_file = \"D:\\ML\\Korea\\Jishu\\Jishu\\rsicd\\captions.csv\"  # Replace with the path to your CSV file\n",
    "df = pd.read_csv(input_file)\n",
    "\n",
    "# Expand captions into separate rows\n",
    "expanded_rows = []\n",
    "for _, row in df.iterrows():\n",
    "    filename = row[\"filename\"]\n",
    "    captions_list = ast.literal_eval(row[\"caption\"])  # Convert the stringified list into an actual Python list\n",
    "    for caption in captions_list:\n",
    "        expanded_rows.append({\"filename\": filename, \"caption\": caption})\n",
    "\n",
    "# Create a new DataFrame from the expanded rows\n",
    "expanded_df = pd.DataFrame(expanded_rows)\n",
    "\n",
    "# Save the expanded DataFrame to a new CSV file\n",
    "output_file = \"expanded_captions.csv\"\n",
    "expanded_df.to_csv(output_file, index=False)\n",
    "\n",
    "print(f\"Expanded file saved to {output_file}\")\n"
   ]
  }
 ],
 "metadata": {
  "kernelspec": {
   "display_name": "ml",
   "language": "python",
   "name": "python3"
  },
  "language_info": {
   "codemirror_mode": {
    "name": "ipython",
    "version": 3
   },
   "file_extension": ".py",
   "mimetype": "text/x-python",
   "name": "python",
   "nbconvert_exporter": "python",
   "pygments_lexer": "ipython3",
   "version": "3.12.5"
  }
 },
 "nbformat": 4,
 "nbformat_minor": 5
}
