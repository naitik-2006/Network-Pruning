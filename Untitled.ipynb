{
 "cells": [
  {
   "cell_type": "code",
   "execution_count": null,
   "id": "cb530d83",
   "metadata": {},
   "outputs": [],
   "source": [
    "import pandas as pd\n",
    "import ast\n",
    "\n",
    "# Load the CSV file\n",
    "input_file = \"D:\\ML\\Korea\\Jishu\\Jishu\\rsicd\\captions.csv\"  # Replace with the path to your CSV file\n",
    "df = pd.read_csv(input_file)\n",
    "\n",
    "# Expand captions into separate rows\n",
    "expanded_rows = []\n",
    "for _, row in df.iterrows():\n",
    "    filename = row[\"filename\"]\n",
    "    captions_list = ast.literal_eval(row[\"caption\"])  # Convert the stringified list into an actual Python list\n",
    "    for caption in captions_list:\n",
    "        expanded_rows.append({\"filename\": filename, \"caption\": caption})\n",
    "\n",
    "# Create a new DataFrame from the expanded rows\n",
    "expanded_df = pd.DataFrame(expanded_rows)\n",
    "\n",
    "# Save the expanded DataFrame to a new CSV file\n",
    "output_file = \"expanded_captions.csv\"\n",
    "expanded_df.to_csv(output_file, index=False)\n",
    "\n",
    "print(f\"Expanded file saved to {output_file}\")\n"
   ]
  },
  {
   "cell_type": "code",
   "execution_count": 2,
   "id": "9c7bc709",
   "metadata": {},
   "outputs": [
    {
     "name": "stdout",
     "output_type": "stream",
     "text": [
      "                image                                            caption\n",
      "0       airport_1.jpg  many aircraft are parked next to a long buildi...\n",
      "1       airport_1.jpg  many planes are parked next to a long building...\n",
      "2       airport_1.jpg  many planes are parked next to a long building...\n",
      "4       airport_1.jpg  many planes are parked next to a long building...\n",
      "5      airport_10.jpg              some planes are parked in an airport.\n",
      "...               ...                                                ...\n",
      "46933       00921.jpg  the playground decorated with a towering tree ...\n",
      "46934       00921.jpg  a playground is between buildings and a parkin...\n",
      "46935       00921.jpg  a playground is next to a parking lot and many...\n",
      "46936       00921.jpg  a playground is next to many buildings and a p...\n",
      "46937       00921.jpg  a playground is next to a parking lot and many...\n",
      "\n",
      "[45427 rows x 2 columns]\n"
     ]
    }
   ],
   "source": [
    "import pandas as pd\n",
    "\n",
    "# Load the CSV file\n",
    "input_file = r\"D:\\ML\\Korea\\Jishu\\Jishu\\rsicd\\captions.csv\"  # Add 'r' to handle the file path correctly\n",
    "data = pd.read_csv(input_file)\n",
    "data['caption'] = data['caption'].apply(lambda x: x.lower())\n",
    "\n",
    "# Drop duplicate rows to keep only unique rows\n",
    "unique_data = data.drop_duplicates()\n",
    "\n",
    "# Display the result\n",
    "print(unique_data)\n",
    "\n",
    "# Optionally, save the unique rows back to a new CSV file\n",
    "unique_data.to_csv(r\"D:\\ML\\Korea\\Jishu\\Jishu\\rsicd\\captions_unique.csv\", index=False)\n"
   ]
  },
  {
   "cell_type": "code",
   "execution_count": null,
   "id": "80b56fd4",
   "metadata": {},
   "outputs": [],
   "source": []
  }
 ],
 "metadata": {
  "kernelspec": {
   "display_name": "ml",
   "language": "python",
   "name": "python3"
  },
  "language_info": {
   "codemirror_mode": {
    "name": "ipython",
    "version": 3
   },
   "file_extension": ".py",
   "mimetype": "text/x-python",
   "name": "python",
   "nbconvert_exporter": "python",
   "pygments_lexer": "ipython3",
   "version": "3.12.5"
  }
 },
 "nbformat": 4,
 "nbformat_minor": 5
}
