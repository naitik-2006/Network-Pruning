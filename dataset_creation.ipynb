{
 "cells": [
  {
   "cell_type": "code",
   "execution_count": 5,
   "id": "13bf6dc0-d186-4eea-b814-ac09615e6d61",
   "metadata": {},
   "outputs": [],
   "source": [
    "from datasets import load_dataset\n",
    "from tqdm import tqdm\n",
    "import os\n",
    "import pandas as pd"
   ]
  },
  {
   "cell_type": "code",
   "execution_count": null,
   "id": "225c5a8c-e11e-4398-9616-1f6d0673d09f",
   "metadata": {},
   "outputs": [],
   "source": [
    "# Load the dataset\n",
    "dataset = load_dataset(\"arampacha/rsicd\")\n",
    "\n",
    "# Define the target folder structure\n",
    "base_folder = \"rsicd\"\n",
    "images_folder = os.path.join(base_folder, \"images\")\n",
    "captions_file = os.path.join(base_folder, \"captions.csv\")\n",
    "\n",
    "# Create directories if they don't exist\n",
    "os.makedirs(images_folder, exist_ok=True)\n",
    "\n",
    "# Prepare captions data\n",
    "captions_data = []"
   ]
  },
  {
   "cell_type": "code",
   "execution_count": 7,
   "id": "2b8a8d4e-8f9b-4100-8938-6f870d356ffe",
   "metadata": {},
   "outputs": [
    {
     "name": "stderr",
     "output_type": "stream",
     "text": [
      "Processing Dataset: 100%|█████████████████████████████████████████████████████████| 8734/8734 [00:47<00:00, 183.88it/s]\n"
     ]
    },
    {
     "name": "stdout",
     "output_type": "stream",
     "text": [
      "Dataset organized in the folder: rsicd\n"
     ]
    }
   ],
   "source": [
    "# Process the dataset and save images and captions\n",
    "for item in tqdm(dataset[\"train\"], desc=\"Processing Dataset\"):\n",
    "    # Extract information\n",
    "    filename = os.path.basename(item[\"filename\"])\n",
    "    captions = item[\"captions\"]\n",
    "    image = item[\"image\"]\n",
    "\n",
    "    # Save the image in the images folder\n",
    "    image_path = os.path.join(images_folder, filename)\n",
    "    image.save(image_path)\n",
    "\n",
    "    # Append captions data\n",
    "    captions_data.append({\"filename\": filename, \"captions\": captions})\n",
    "\n",
    "# Save captions to CSV\n",
    "captions_df = pd.DataFrame(captions_data)\n",
    "captions_df.to_csv(captions_file, index=False)\n",
    "\n",
    "print(f\"Dataset organized in the folder: {base_folder}\")"
   ]
  },
  {
   "cell_type": "code",
   "execution_count": 8,
   "id": "59793c53-a679-43ed-abcd-db08a62cab81",
   "metadata": {},
   "outputs": [
    {
     "name": "stderr",
     "output_type": "stream",
     "text": [
      "Processing Dataset: 100%|█████████████████████████████████████████████████████████| 1093/1093 [00:05<00:00, 183.40it/s]\n"
     ]
    },
    {
     "name": "stdout",
     "output_type": "stream",
     "text": [
      "Dataset organized in the folder: rsicd\n"
     ]
    }
   ],
   "source": [
    "# Process the dataset and save images and captions\n",
    "for item in tqdm(dataset[\"test\"], desc=\"Processing Dataset\"):\n",
    "    # Extract information\n",
    "    filename = os.path.basename(item[\"filename\"])\n",
    "    captions = item[\"captions\"]\n",
    "    image = item[\"image\"]\n",
    "\n",
    "    # Save the image in the images folder\n",
    "    image_path = os.path.join(images_folder, filename)\n",
    "    image.save(image_path)\n",
    "\n",
    "    # Append captions data\n",
    "    captions_data.append({\"filename\": filename, \"captions\": captions})\n",
    "\n",
    "# Save captions to CSV\n",
    "captions_df = pd.DataFrame(captions_data)\n",
    "captions_df.to_csv(captions_file, index=False)\n",
    "\n",
    "print(f\"Dataset organized in the folder: {base_folder}\")"
   ]
  },
  {
   "cell_type": "code",
   "execution_count": 9,
   "id": "dc44e182-0d9e-4519-982b-cd7aafedbf28",
   "metadata": {},
   "outputs": [
    {
     "name": "stderr",
     "output_type": "stream",
     "text": [
      "Processing Dataset: 100%|█████████████████████████████████████████████████████████| 1094/1094 [00:05<00:00, 186.99it/s]\n"
     ]
    },
    {
     "name": "stdout",
     "output_type": "stream",
     "text": [
      "Dataset organized in the folder: rsicd\n"
     ]
    }
   ],
   "source": [
    "# Process the dataset and save images and captions\n",
    "for item in tqdm(dataset[\"valid\"], desc=\"Processing Dataset\"):\n",
    "    # Extract information\n",
    "    filename = os.path.basename(item[\"filename\"])\n",
    "    captions = item[\"captions\"]\n",
    "    image = item[\"image\"]\n",
    "\n",
    "    # Save the image in the images folder\n",
    "    image_path = os.path.join(images_folder, filename)\n",
    "    image.save(image_path)\n",
    "\n",
    "    # Append captions data\n",
    "    captions_data.append({\"filename\": filename, \"captions\": captions})\n",
    "\n",
    "# Save captions to CSV\n",
    "captions_df = pd.DataFrame(captions_data)\n",
    "captions_df.to_csv(captions_file, index=False)\n",
    "\n",
    "print(f\"Dataset organized in the folder: {base_folder}\")"
   ]
  },
  {
   "cell_type": "code",
   "execution_count": null,
   "id": "9299c995-9bd0-46d2-8727-78aee7602430",
   "metadata": {},
   "outputs": [],
   "source": []
  }
 ],
 "metadata": {
  "kernelspec": {
   "display_name": "Python 3 (ipykernel)",
   "language": "python",
   "name": "python3"
  },
  "language_info": {
   "codemirror_mode": {
    "name": "ipython",
    "version": 3
   },
   "file_extension": ".py",
   "mimetype": "text/x-python",
   "name": "python",
   "nbconvert_exporter": "python",
   "pygments_lexer": "ipython3",
   "version": "3.12.5"
  }
 },
 "nbformat": 4,
 "nbformat_minor": 5
}
